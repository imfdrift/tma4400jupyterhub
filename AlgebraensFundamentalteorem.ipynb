{
 "cells": [
  {
   "cell_type": "markdown",
   "id": "57e2634f",
   "metadata": {},
   "source": [
    "# Algebraens fundamentalteorem\n",
    "\n",
    "**TMA4400 Matematikk 1: Kalkulus og lineær algebra**\n",
    "\n",
    "Dato: **18. august 2025**\n"
   ]
  },
  {
   "cell_type": "markdown",
   "id": "322a041b-49be-45c0-a179-aea7f3a12307",
   "metadata": {
    "slideshow": {
     "slide_type": ""
    },
    "tags": []
   },
   "source": [
    "**Teorem.** Enhver ligning på formen\n",
    "$$ z^n + a_{n-1} z^{n-1} + \\cdots + a_2 z^2 + a_1 z + a_0 = 0, $$\n",
    "der $a_{n-1}, \\ldots, a_0$ er vilkårlige komplekse tall, har en løsning."
   ]
  },
  {
   "cell_type": "markdown",
   "id": "8b838520-07d6-4a37-ba42-bb46fd9f918c",
   "metadata": {},
   "source": [
    "Husk polarform: $z = r e^{i \\varphi}$.\n",
    "\n",
    "Vi utforsker hva som skjer på venstre siden av ligningen over når $r$ er fast, men $\\varphi$ varierer fra $0$ til $2 \\pi$. Vi kan prøve det visuelt med hjelp av den følgende python-koden."
   ]
  },
  {
   "cell_type": "code",
   "execution_count": null,
   "id": "29517cb1-7713-4a3b-a524-2d2c4b620298",
   "metadata": {},
   "outputs": [],
   "source": [
    "import numpy as np\n",
    "import matplotlib.pyplot as plt\n",
    "\n",
    "# vårt polynom\n",
    "def f(z):\n",
    "    return z**4 + 1j * (z**3) + 1j * (z**2) + 2j*z - 1\n",
    "\n",
    "# 1000 punkter langs enhetssirkelen i det komplekse planet\n",
    "phi = np.linspace(0.0, 2 * np.pi, 1000)\n",
    "r = 1\n",
    "MAX = 10\n",
    "\n",
    "# litt pynting av outputen\n",
    "fig, ax = plt.subplots()\n",
    "ax.set_xlim(-MAX,MAX)\n",
    "ax.set_ylim(-MAX,MAX)\n",
    "ax.spines['left'].set_position('zero')\n",
    "ax.spines['bottom'].set_position('zero')\n",
    "ax.spines['right'].set_color('none')\n",
    "ax.spines['top'].set_color('none')\n",
    "\n",
    "# plotte det komplekse punktet som kommer ut når vi setter r ext(i phi) inn i f\n",
    "ax.plot(f(r * np.exp(phi * 1j)).real, f(r * np.exp(phi * 1j)).imag)\n",
    "\n",
    "plt.show()"
   ]
  },
  {
   "cell_type": "markdown",
   "id": "4f6d7f80-677b-4a63-a12c-a54c1dc7cdf9",
   "metadata": {},
   "source": [
    "**Observasjoner:**\n",
    "1. Hvis $r$ er veldig liten så er det $a_0$ som gir det største bidraget til resultatet.\n",
    "2. Hvis $r$ er veldig stor så er det $z^n$ som gir det største bidraget til resultatet. Da går kurven rundt origo $n$ ganger."
   ]
  },
  {
   "cell_type": "markdown",
   "id": "8a33b536-743a-4f91-b616-e4148015e9cc",
   "metadata": {},
   "source": [
    "Vi kan visualisere overgang fra liten $r$ til stor $r$ i det følgende."
   ]
  },
  {
   "cell_type": "code",
   "execution_count": null,
   "id": "3ebee124-f5c3-4262-bbd5-1ad352fe6662",
   "metadata": {},
   "outputs": [],
   "source": [
    "%matplotlib ipympl\n",
    "# hvis det kommer uforstålige feilmeldinger så må du kanskje finne ut hvordan du kan laste ned ipympl\n",
    "import numpy as np\n",
    "import matplotlib.pyplot as plt\n",
    "from matplotlib.widgets import Slider\n",
    "\n",
    "def f(z):\n",
    "    return z**4 + 1j * z**3 + 1j * z**2 + 2j*z - 1\n",
    "\n",
    "phi = np.linspace(0.0, 2 * np.pi, 1000)\n",
    "MAX = 10\n",
    "\n",
    "fig, ax = plt.subplots()\n",
    "ax.set_xlim(-MAX,MAX)\n",
    "ax.set_ylim(-MAX,MAX)\n",
    "ax.spines['left'].set_position('zero')\n",
    "ax.spines['bottom'].set_position('zero')\n",
    "ax.spines['right'].set_color('none')\n",
    "ax.spines['top'].set_color('none')\n",
    "curve, = ax.plot(f(np.exp(phi*1j)).real, f(np.exp(phi*1j)).imag)\n",
    "\n",
    "# slider for å kunne tilpasse r interaktivt\n",
    "radius_ax = fig.add_axes([0.1,0.02,0.8,0.02])\n",
    "radius_slider = Slider(ax=radius_ax, label='r', valmin=0, valmax=2, valinit=1)\n",
    "radius_slider.on_changed(lambda val: curve.set_data(f(val * np.exp(phi*1j)).real, f(val * np.exp(phi*1j)).imag))\n",
    "\n",
    "plt.show()"
   ]
  },
  {
   "cell_type": "markdown",
   "id": "585fc573-3b35-4dc9-ab48-3efe0d2710f3",
   "metadata": {},
   "source": [
    "Kontinuerlig overgang fra et punkt til en kurve som går rundt origo $n$ ganger krever at kurven på et tidspunkt underveis går gjennom origo. Det vil si vi finner en løsning for ligningen."
   ]
  }
 ],
 "metadata": {
  "kernelspec": {
   "display_name": "Python 3",
   "language": "python",
   "name": "python3"
  },
  "language_info": {
   "codemirror_mode": {
    "name": "ipython",
    "version": 3
   },
   "file_extension": ".py",
   "mimetype": "text/x-python",
   "name": "python",
   "nbconvert_exporter": "python",
   "pygments_lexer": "ipython3",
   "version": "3.8.8"
  }
 },
 "nbformat": 4,
 "nbformat_minor": 5
}
