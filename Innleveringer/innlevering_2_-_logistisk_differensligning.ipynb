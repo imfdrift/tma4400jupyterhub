{
 "cells": [
  {
   "cell_type": "markdown",
   "id": "568bde50",
   "metadata": {},
   "source": [
    "# Innlevering 2 &mdash; Logistisk differensligning\n",
    "\n",
    "**TMA4400 Matematikk 1: Kalkulus og lineær algebra**\n",
    "\n",
    "Innleveringsfrist: **03. oktober 2025, klokka 16.00**"
   ]
  },
  {
   "cell_type": "markdown",
   "id": "ac87d8fd",
   "metadata": {},
   "source": [
    "---\n",
    "\n",
    "_Du **skal** levere besvarelsen din som en pdf-fil i <a href=\"https://ovsys.math.ntnu.no/login/?next=/\">Ovsys</a>. Der skal du også legge ved all kode du eventuelt bruker._ \n",
    "\n",
    "_Du kan ta utgangspunkt i denne Jupyter notebook-en, endre den, lagre den som pdf, og levere den inn._\n",
    "\n",
    "---"
   ]
  },
  {
   "cell_type": "markdown",
   "id": "c84ef29d",
   "metadata": {},
   "source": [
    "Ei ligning på formen \n",
    "\n",
    "$$\n",
    "u_{n+1} = u_n + f(u_n)\n",
    "$$\n",
    "\n",
    "er et eksempel på en rekursjon. \n",
    "<p><p>\n",
    "Funksjonen $f(x)$ gir endringen fra $u_n$ til $u_{n+1}$,\n",
    "og i denne innleveringa skal vi studere følger $\\{u_n\\}_{n=0}^\\infty$ gitt ved en initialverdi $u_0$ og en rekursjon.\n",
    "I en typisk biologibok vil forfatteren bruke bakterievekst som motiverende eksempel &ndash;\n",
    "en gjennomsnittlig E. Coli-bakterie deler seg omtrent hvert tjuende minutt ved kroppstemperatur, \n",
    "så om $u_n$ er E. Coli-bestanden ved ett tidspunkt, \n",
    "er $u_{n+1}$ bestanden tjue minutter senere. Se <a href=\"https://www.youtube.com/watch?v=gEwzDydciWc\">her</a> for en illustrasjon.\n"
   ]
  },
  {
   "cell_type": "markdown",
   "id": "42fd2f4a",
   "metadata": {},
   "source": [
    "<ol type=\"1.\" start=\"1.\">\n",
    "<li> Hva blir $f(x)$ dersom $u_{n+1}$ skal være dobbelt så stor som $u_n$?\n",
    "<p><p>    \n",
    "</li>\n",
    "</ol>"
   ]
  },
  {
   "cell_type": "markdown",
   "id": "62c60e5d",
   "metadata": {},
   "source": [
    "\n",
    "Nå deler ikke bakterier seg på sekundet hvert tjuende minutt,\n",
    "så en bedre modell er å sette $f(x)=r x$, \n",
    "slik at \n",
    "\n",
    "$$\n",
    "u_{n+1} = (1+r)u_n\n",
    "$$\n",
    "\n",
    "og så kan man bestemme vekstraten $r$ empirisk under forskjellige kontrollerte forhold &ndash; \n",
    "temperatur og mattilgang og så videre.\n",
    "I TMA4400 har vi ikke tilgang på lab, \n",
    "så vi får fikle litt med python istedet.  \n",
    "<p><p>\n",
    "Under finner du pythonkode for å plotte $(n,u_n)$ der $n\\in\\{0,1,2,\\ldots\\}$ gitt $u_0$ og $r$. "
   ]
  },
  {
   "cell_type": "markdown",
   "id": "3a8aa4e4",
   "metadata": {},
   "source": [
    "<ol type=\"1.\" start=\"2.\">\n",
    "<li>Sett $u_0=1$ og plott følgen for $r=-1/2$, $r=0$ og $r=1/2$. \n",
    "<p><p>\n",
    "</li>\n",
    "</ol>"
   ]
  },
  {
   "cell_type": "code",
   "execution_count": 1,
   "id": "7f9716e3",
   "metadata": {},
   "outputs": [
    {
     "name": "stdout",
     "output_type": "stream",
     "text": [
      "[2.50e-01 5.00e-01 1.00e+00 2.00e+00 4.00e+00 8.00e+00 1.60e+01 3.20e+01\n",
      " 6.40e+01 1.28e+02 2.56e+02]\n"
     ]
    },
    {
     "data": {
      "image/png": "[encoded data removed]",
      "text/plain": [
       "<Figure size 576x288 with 1 Axes>"
      ]
     },
     "metadata": {
      "needs_background": "light"
     },
     "output_type": "display_data"
    }
   ],
   "source": [
    "# pakkene vi trenger\n",
    "%matplotlib inline\n",
    "import math # vi trenger tilgang til sinus-funksjonen math.sin() \n",
    "import numpy as np\n",
    "import matplotlib.pyplot as plt\n",
    "\n",
    "# høyresida i rekursjonen\n",
    "def f(x,r):\n",
    "    return (1+r)*x\n",
    "\n",
    "# beregner følgen\n",
    "def beregn_folge(\n",
    "r, # vekstfaktor\n",
    "u0, # initialverdi\n",
    "nmax # antall iterasjoner\n",
    "):\n",
    "    u = np.zeros(nmax+1) # vi begynner med en vektor som har nuller overalt\n",
    "    u[0] = u0\n",
    "    for i in range(0, nmax):\n",
    "        u[i+1] = f(u[i],r)\n",
    "    \n",
    "    return u # returnerer en vektor som representerer følgen\n",
    "\n",
    "# lager plot\n",
    "def plott_folge(u):\n",
    "    naturlige_tall = np.arange(0.0, len(u), 1)\n",
    "\n",
    "    # fikser litt på pyplot\n",
    "    newparams = {'figure.figsize': (8.0, 4.0), 'axes.grid': True,\n",
    "    'lines.markersize': 8, 'lines.linewidth': 2,\n",
    "    'font.size': 14}\n",
    "    plt.rcParams.update(newparams)\n",
    "\n",
    "    plt.plot(naturlige_tall, u, 'bo') # plotter følgen for gitt vektor u\n",
    "\n",
    "u = beregn_folge(r=1, u0=.25, nmax=10)\n",
    "plott_folge(u) \n",
    "print(u)"
   ]
  },
  {
   "cell_type": "markdown",
   "id": "96167cc4",
   "metadata": {},
   "source": [
    "Thomas Malthus påpekte i <a href=\"https://en.wikipedia.org/wiki/An_Essay_on_the_Principle_of_Population\">\"An Essay on the Principle of Population\"</a> at organismer har en lei tendens til å formere seg eksponensielt fra generasjon til generasjon,\n",
    "og siden matproduksjonskapasiteten i et typisk jordbrukssamfunn ikke øker eksponensielt over tid, \n",
    "mente han at Homo Sapiens var dømt til gjentagende sultkatastrofer. \n",
    "Dette essayet var viktig for Charles Darwin da han formulerte evolusjonsteorien i 1859 &ndash;\n",
    "eksponensiell vekst kalles ofte <a href=\"https://en.wikipedia.org/wiki/Malthusian_growth_model\">malthusisk vekst</a> i biologi. \n",
    "Men som David Attenborough pleier å si (sitatets opprinnelse er uklar):\n",
    "<p><p>\n",
    "\"Anyone who thinks that you can have infinite growth in a finite environment is either a madman or an economist.\"\n",
    "<p><p>\n",
    "Dersom en organisme ikke kan formere seg ubegrenset, \n",
    "for eksempel når en bakteriekultur dyrkes i en lukket beholder,\n",
    "er det bedre å bytte ut $r$ med en funksjon som synker med økende bestand. Den enkleste modellen som gjør dette er <a href=\"https://en.wikipedia.org/wiki/Logistic_function\">den diskrete logistiske likningen</a>\n",
    "\n",
    "$$\n",
    "u_{n+1}=u_n+ru_n(K-u_n),\n",
    "$$ \n",
    "    \n",
    "der vekstfaktoren $r$, bærekapasiteten $K$ og initialverdien $u_0$ er gitt."
   ]
  },
  {
   "cell_type": "markdown",
   "id": "f9730680",
   "metadata": {},
   "source": [
    "<ol type=\"1.\" start=\"3.\">\n",
    "<li>Modifiser koden over til å plotte følgen gitt av den logistiske rekursjonen. La $r=1/2$ og $K=1$ og plot $(n,u_n)$ der $n\\in\\{0,1,2,\\ldots\\}$ for initialverdiene $u_0=0,1/4,1/2,3/4,1$. \n",
    "</li>\n",
    "</ol>"
   ]
  },
  {
   "cell_type": "markdown",
   "id": "043c7a44",
   "metadata": {},
   "source": [
    "<ol type=\"1.\" start=\"4.\">\n",
    "<li>Gjenta eksperimentet for andre verdier av $r$ og $K$ og\n",
    "forklar hvorfor $r$ kalles vekstraten og $K$ bærekapasiteten. \n",
    "</li>\n",
    "</ol>"
   ]
  },
  {
   "cell_type": "markdown",
   "id": "1f295011",
   "metadata": {},
   "source": [
    "<ol type=\"1.\" start=\"5.\">\n",
    "<li>La $0\\lt r \\lt 1$, $K=1$ og $0\\lt u_0 \\lt 1$.\n",
    "<p><p>\n",
    "Vis ved induksjon at $0 \\lt u_n \\lt 1$ og at\n",
    "$u_{n+1}> u_n$ for alle $n\\in\\{0,1,\\ldots\\}$. \n",
    "<p><p>\n",
    "Forklar hvorfor $\\lim_{n\\to\\infty}u_n$ eksisterer. Regn så ut grenseverdien.\n",
    "<p><p>\n",
    "<i>Hint:</i> Grensa $u$ må tilfredsstille $0=ru(1-u)$.\n",
    "</li>\n",
    "</ol>"
   ]
  },
  {
   "cell_type": "markdown",
   "id": "bc68da23",
   "metadata": {},
   "source": [
    "Gode matematiske modeller fungerer slik at de spår korrekt oppførsel for det de modellerer dersom parametrene er satt riktig,\n",
    "men for noen parametre kan oppførselen til modellen fremstå som uforutsigbar selv om den strengt tatt ikke er det. \n",
    "Dette kalles <a href=\"https://en.wikipedia.org/wiki/Chaos_theory\">kaos</a>, \n",
    "og ble oppdaget på 60-tallet av Edward Lorenz. \n",
    "Han brukte en <a href=\"https://en.wikipedia.org/wiki/LGP-30\">LPG-30</a> til å\n",
    "eksperimentere med enkle <a href=\"https://en.wikipedia.org/wiki/Edward_Norton_Lorenz#Numerical_weather_prediction\">værmodeller</a>,\n",
    "og oppdaget at dersom han startet to modellkjøringer \n",
    "med bittesmå forskjeller i initialverdiene,\n",
    "ble langtidsværmeldingene helt forskjellige. \n",
    "\n",
    "<p style=\"text-align: center;\">\n",
    "<img src=\"bilde/kaos.jpg\" alt=\"Figur med to grafer som begynner med nesten samme initialverdi\" width=\"500\"></p>\n",
    "\n",
    "<p style=\"text-align: center;\">(Kilde: <a href=\"https://en.wikipedia.org/wiki/Chaos:_Making_a_New_Science\">James Gleick: Chaos</a>)</p>\n",
    "\n",
    "Dette er et ganske vanlig fenomen i fysikk,\n",
    "og stikkordet er sensitivitet med hensyn på initialbetingelser.\n",
    "I oppgave 3 ser man tydelig at små forskjeller i initialverdiene stort sett gir samme langtidsoppførsel,\n",
    "men den logistiske rekursjonen viser kaotisk oppførsel for noen valg av $r$ og $K$. \n",
    "<p><p>\n",
    "La oss sette $r=4$ og $K=3/4$.\n"
   ]
  },
  {
   "cell_type": "markdown",
   "id": "68f022f2",
   "metadata": {},
   "source": [
    "<ol type=\"1.\" start=\"6.\">\n",
    "<li>Plot $(n,u_n)$ for $u_0=0.100$ og $u_0=0.101$ i samme figur.\n",
    "</li>\n",
    "</ol>"
   ]
  },
  {
   "cell_type": "markdown",
   "id": "599a3934",
   "metadata": {},
   "source": [
    "<ol type=\"1.\" start=\"7.\">\n",
    "<li>Vis at $u_n=\\sin^2(2^n)$ løser den logistiske ligningen dersom $u_0=\\sin^2(1)$. \n",
    "<p><p>\n",
    "Konvergerer $u_n$ mot noe? (Vi er ikke ute etter et rigorøst matematisk argument.)\n",
    "</li>\n",
    "</ol>"
   ]
  },
  {
   "cell_type": "markdown",
   "id": "1fd8efbe",
   "metadata": {},
   "source": [
    "<ol type=\"1.\" start=\"8.\">\n",
    "<li>Hva skjer om $u_0=\\frac{5-\\sqrt{5}}{8}$?\n",
    "<p><p>\n",
    "<i>Hint:</i> Regn ut $u_1$, $u_2$ og $u_3$.\n",
    "</li>\n",
    "</ol>"
   ]
  }
 ],
 "metadata": {
  "kernelspec": {
   "display_name": "Python 3",
   "language": "python",
   "name": "python3"
  },
  "language_info": {
   "codemirror_mode": {
    "name": "ipython",
    "version": 3
   },
   "file_extension": ".py",
   "mimetype": "text/x-python",
   "name": "python",
   "nbconvert_exporter": "python",
   "pygments_lexer": "ipython3",
   "version": "3.8.8"
  }
 },
 "nbformat": 4,
 "nbformat_minor": 5
}
