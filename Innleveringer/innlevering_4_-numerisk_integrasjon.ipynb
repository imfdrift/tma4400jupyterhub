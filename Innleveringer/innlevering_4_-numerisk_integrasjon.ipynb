{
 "cells": [
  {
   "cell_type": "markdown",
   "id": "568bde50",
   "metadata": {},
   "source": [
    "# Innlevering 4 &mdash; Numerisk integrasjon\n",
    "\n",
    "**TMA4400 Matematikk 1: Kalkulus og lineær algebra**\n",
    "\n",
    "Innleveringsfrist: **14. november 2025, klokka 16.00**"
   ]
  },
  {
   "cell_type": "markdown",
   "id": "4813e757",
   "metadata": {},
   "source": [
    "---\n",
    "\n",
    "_Du **skal** levere besvarelsen din som en pdf-fil i <a href=\"https://ovsys.math.ntnu.no/login/?next=/\">Ovsys</a>. Der skal du også legge ved all kode du eventuelt bruker._ \n",
    "\n",
    "_Du kan ta utgangspunkt i denne Jupyter notebook-en, endre den, lagre den som pdf, og levere den inn._\n",
    "\n",
    "---"
   ]
  },
  {
   "cell_type": "markdown",
   "id": "edcc848b",
   "metadata": {},
   "source": [
    "<a href=\"https://en.wikipedia.org/wiki/Normal_distribution#Standard_normal_distribution\">Standardnormalfordelingen</a> er gitt ved \n",
    "\n",
    "$$\n",
    "    f(x) = \\frac{1}{\\sqrt{2\\pi}} e^{-x ^2/2}.\n",
    "$$\n",
    "\n",
    "La oss plotte denne."
   ]
  },
  {
   "cell_type": "code",
   "execution_count": 1,
   "id": "eab83bc8",
   "metadata": {},
   "outputs": [
    {
     "data": {
      "image/png": "[encoded data removed]",
      "text/plain": [
       "<Figure size 432x288 with 1 Axes>"
      ]
     },
     "metadata": {
      "needs_background": "light"
     },
     "output_type": "display_data"
    }
   ],
   "source": [
    "import numpy as np\n",
    "import matplotlib.pyplot as plt\n",
    "\n",
    "# vi definerer funksjonen\n",
    "def f(x):                        \n",
    "    return (1/np.sqrt(2*np.pi))*np.exp(-0.5*x**2)\n",
    "\n",
    "# vi plotter denne\n",
    "x = np.linspace(-3, 3, 101)\n",
    "plt.plot(x, f(x))\n",
    "\n",
    "plt.xlabel('x')\n",
    "plt.ylabel('f(x)')\n",
    "plt.grid(True)"
   ]
  },
  {
   "cell_type": "markdown",
   "id": "2218e4e2",
   "metadata": {},
   "source": [
    "Dette er et eksempel på en sannsynlighetstetthetsfunksjon, \n",
    "og for TMA4400 holder det å vite at sannsynligheten for å havne mellom $a$ og $b$ er gitt ved \n",
    "\n",
    "$$\n",
    "\\frac{1}{\\sqrt{2\\pi}} \\int_a^b e^{-x ^2/2} \\; dx.\n",
    "$$\n",
    "\n",
    "Det er bare ett problem - standardnormalfordelingen har ikke en eksplisitt gitt antiderivert. \n",
    "\n",
    "Under er en kode for å beregne arealet ved hjelp av rektangelmetoden\n",
    "\n",
    "\\begin{align*}\n",
    "\\int_a^b f(x) \\ dx &\\approx \\frac{b-a}{n} \\sum_{i=0}^{n-1}f(x_i),\\qquad \\text{der $x_{i}=a+i\\frac{b-a}{n}$ for $i=0,1,\\dots,n$.}\n",
    "\\end{align*}"
   ]
  },
  {
   "cell_type": "code",
   "execution_count": 2,
   "id": "25ccb8a1",
   "metadata": {},
   "outputs": [],
   "source": [
    "def rektangel(f, a, b, n):\n",
    "# vi finner en approksimasjon av integralet ved rektangelmetoden\n",
    "# Input:  \n",
    "#   f:    integranden\n",
    "#   a, b: integrasjonsintervallet\n",
    "#   n:    antall delintervall\n",
    "# Output: approksimasjonen av integralet\n",
    "    x_noder = np.linspace(a, b, n+1)       # jevnt fordelte noder fra a til b \n",
    "    h = (b-a)/n                            # steglengden\n",
    "    R = h*(sum(f(x_noder[0:n])))           # summerer f(x_0), f(x_1), ... , f(x_{n-1})\n",
    "    return (n, R)"
   ]
  },
  {
   "cell_type": "code",
   "execution_count": 3,
   "id": "efc57f19",
   "metadata": {},
   "outputs": [
    {
     "name": "stdout",
     "output_type": "stream",
     "text": [
      "n =  10, Approksimasjon = 0.34899161\n"
     ]
    }
   ],
   "source": [
    "def f(x):                        # integranden\n",
    "    return (1/np.sqrt(2*np.pi))*np.exp(-0.5*x**2)\n",
    "a, b = 0, 1                     # integrasjonsintervallet\n",
    "n = 10                           # antall delintervaller\n",
    "(n, R) = rektangel(f, a, b, n)   # numerisk løsning   \n",
    "print('n = {:3d}, Approksimasjon = {:.8f}'.format(n,R))"
   ]
  },
  {
   "cell_type": "markdown",
   "id": "ed3bc4f6",
   "metadata": {},
   "source": [
    "Rektangelmetoden er basert på å velge nodene i venstre endepunkt av delintervallene. En annen måte er å velge nodene i midten av delintervallene. Dette kalles midtpunktmetoden, og den er gitt ved\n",
    "\n",
    "$$\n",
    "\\int_a^b f(x) \\ dx \\approx \\frac{b-a}{n}\\sum_{i=0}^{n-1}f(m_i),\\qquad \\text{der $m_i=\\frac{1}{2}(x_{i}+x_{i+1})$.}\n",
    "$$"
   ]
  },
  {
   "cell_type": "markdown",
   "id": "b000b17a",
   "metadata": {},
   "source": [
    "<ol type=\"1.\" start=\"1.\">\n",
    "<li> Modifiser koden til å beregne arealet ved midtpunktmetoden. Kjør koden med $a=0$ og $b=1$, og sammenlign begge metoder med den korrekte sannsynligheten\n",
    "\n",
    "$$\n",
    "\\frac{1}{\\sqrt{2\\pi}} \\int_0^1 e^{-x ^2/2} \\; dx \\approx 0.3413447460685429485852.\n",
    "$$\n",
    "</li>\n",
    "</ol>"
   ]
  },
  {
   "cell_type": "markdown",
   "id": "c2c702f3",
   "metadata": {},
   "source": [
    "For rektangelmetoden kan vi teste hvordan feilen var avhengig av $n$ med følgende kode:"
   ]
  },
  {
   "cell_type": "code",
   "execution_count": 4,
   "id": "880a6025",
   "metadata": {},
   "outputs": [
    {
     "name": "stdout",
     "output_type": "stream",
     "text": [
      "n =   1,  error = 5.760e-02\n",
      "n =   2,  error = 3.416e-02, reduction factor = 5.931e-01\n",
      "n =   4,  error = 1.836e-02, reduction factor = 5.374e-01\n",
      "n =   8,  error = 9.495e-03, reduction factor = 5.172e-01\n",
      "n =  16,  error = 4.827e-03, reduction factor = 5.083e-01\n",
      "n =  32,  error = 2.433e-03, reduction factor = 5.041e-01\n",
      "n =  64,  error = 1.221e-03, reduction factor = 5.020e-01\n",
      "n = 128,  error = 6.119e-04, reduction factor = 5.010e-01\n",
      "n = 256,  error = 3.063e-04, reduction factor = 5.005e-01\n",
      "n = 512,  error = 1.532e-04, reduction factor = 5.003e-01\n"
     ]
    }
   ],
   "source": [
    "a, b = 0, 1\n",
    "I_eksakt = 0.3413447460685429485852  # vi regner ut integralet\n",
    "\n",
    "for n in [1,2,4,8,16,32,64,128,256,512]:\n",
    "    (n, R) = rektangel(f, a, b, n=n) # numerisk løsning   \n",
    "    err = abs(I_eksakt-R)            # feil\n",
    "    if n == 1:\n",
    "        print('n = {:3d},  error = {:.3e}'.format(n, err))\n",
    "    else:\n",
    "        print('n = {:3d},  error = {:.3e}, reduction factor = {:.3e}'\n",
    "              .format(n, err, err/err_prev))\n",
    "    err_prev=err"
   ]
  },
  {
   "cell_type": "markdown",
   "id": "0cd9f86a",
   "metadata": {},
   "source": [
    "<ol type=\"1.\" start=\"2.\">\n",
    "<li> Test hvordan feilen i midtpunktmetoden avhenger av $n$: Hvor mye reduseres feilen med når antall delintervaller $n$ øker med en faktor $2$?\n",
    "<p><p>\n",
    "Sammenlign feilen i midtpunktmetoden med hva du vet for trapesmetoden. Blir du overrasket?\n",
    "</li>\n",
    "</ol>"
   ]
  },
  {
   "cell_type": "markdown",
   "id": "8b05cee1",
   "metadata": {},
   "source": [
    "<ol type=\"1.\" start=\"3.\">\n",
    "<li> Bevis at\n",
    "\n",
    "$$\n",
    "I = \\left|\\int_a^b f(x) \\ dx - h\\sum_{i=0}^{n-1}f(m_i)\\right|\\leq \\frac{K(b-a)^3}{24 n^2},\n",
    "$$\n",
    "\n",
    "hvor $K$ er slik at $|f''(x)|\\leq K$ for alle $x\\in[a,b]$.\n",
    "<p><p>\n",
    "Du kan samarbeide med et KI-verktøy (f. eks. NTNU sin <a href=\"https://i.ntnu.no/wiki/-/wiki/Norsk/Copilot\">Copilot</a>) for å komme frem til beviset. Fortell den at du er en førsteårsstudent som tar sitt første matematikkemne ved et universitet, og at du trenger hjelp med feilestimatet for midtpunktmetoden i forbindelse med numerisk integrasjon.\n",
    "<p><p>\n",
    "Reflekter over følgende: Hva har du gjort for å sjekke at løsningen som foreslås er riktig? Hvilke antagelser må du gjøre underveis?\n",
    "<p><p>\n",
    "Forklar så hvorfor midtpunktmetoden og trapesmetoden får nesten samme feil.\n",
    "</li>\n",
    "</ol>"
   ]
  },
  {
   "cell_type": "markdown",
   "id": "ccb45b23",
   "metadata": {},
   "source": [
    "De numeriske integrasjonsmetodene gir oss et sett med korresponderende teknikker for å løse ordinære differensiallikninger numerisk. La oss si vi ønsker å løse initialverdiproblemet\n",
    "\n",
    "\\begin{align*}\n",
    "\\begin{cases}\n",
    "y'(t)=F(y(t)),& \\qquad t\\in(0,t_{\\text{end}}],\\\\\n",
    "y(0)=y_0.\n",
    "\\end{cases}\n",
    "\\end{align*}\n",
    "\n",
    "Vi deler tidsintervallet inn i en partisjon med $N+1$ punkter\n",
    "\n",
    "$$\n",
    "    t_n = nh, \\qquad 0\\leq n \\leq N\n",
    "$$\n",
    "\n",
    "der $h=t_{\\text{end}}/N$, og integrerer differensialligningen fra en node til neste:\n",
    "\n",
    "$$\n",
    "    y\\left( t_{n+1} \\right) - y\\left( t_n \\right) = \\int_{t_n}^{t_{n+1}} F\\left( y\\left( t \\right) \\right) \\ dt.\n",
    "$$\n",
    "\n",
    "Integralet på høyresiden kan vi nå approksimere på ulike måter: rektangelmetoden med venstre eller høyre endepunkt, midtpunktmetoden eller trapesmetoden. Hvis vi i tillegg lar $y_n \\approx y\\left( t_n \\right)$, får vi nå fire metoder:\n",
    "\n",
    "\\begin{align*}\n",
    "    \\text{Eulers eksplisitte metode:} \\hspace{10mm} &y_{n+1} = y_n + hF\\left( y_n \\right) \\\\[3mm]\n",
    "    \\text{Eulers implisitte metode:} \\hspace{10mm} &y_{n+1} = y_n + hF\\left( y_{n+1} \\right) \\\\[3mm]\n",
    "    \\text{Midtpunktmetoden:} \\hspace{10mm} &y_{n+1} = y_n + hF\\left( \\frac{y_n + y_{n+1}}{2} \\right) \\\\[3mm]\n",
    "    \\text{Trapesmetoden:} \\hspace{10mm} &y_{n+1} = y_n + \\frac{h}{2}\\left( F\\left( y_n \\right) + F\\left( y_{n+1} \\right) \\right)\n",
    "\\end{align*}\n",
    "\n",
    "La oss nå studere den logistiske ligningen:\n",
    "\n",
    "\\begin{align*}\n",
    "\\begin{cases}\n",
    "y'(t)=ry(t)\\left( K-y(t) \\right),& \\qquad t\\in(0,t_{\\text{end}}],\\\\\n",
    "y(0)=y_0,\n",
    "\\end{cases}\n",
    "\\end{align*}\n",
    "\n",
    "med konstanter $r>0$ og $K>0$."
   ]
  },
  {
   "cell_type": "markdown",
   "id": "a7997ceb",
   "metadata": {},
   "source": [
    "<ol type=\"1.\" start=\"4.\">\n",
    "<li>  Skriv ned Eulers eksplisitte metode for den logistiske ligningen.\n",
    "<p><p>\n",
    "Sammenlign svaret du får med den diskrete logistiske ligninga vi studerte i Innlevering 2. Forklar hvordan $h$, $r$ og $K$ påvirker oppførselen til den numeriske metoden.\n",
    "</li>\n",
    "</ol>"
   ]
  },
  {
   "cell_type": "markdown",
   "id": "ba155d6a",
   "metadata": {},
   "source": [
    "Under finner du kode for Eulers eksplisitte metode for den logistiske ligningen."
   ]
  },
  {
   "cell_type": "code",
   "execution_count": 5,
   "id": "f2048adf",
   "metadata": {},
   "outputs": [
    {
     "data": {
      "text/plain": [
       "[<matplotlib.lines.Line2D at 0x7fd281005160>]"
      ]
     },
     "execution_count": 5,
     "metadata": {},
     "output_type": "execute_result"
    },
    {
     "data": {
      "image/png": "[encoded data removed]",
      "text/plain": [
       "<Figure size 432x288 with 1 Axes>"
      ]
     },
     "metadata": {
      "needs_background": "light"
     },
     "output_type": "display_data"
    }
   ],
   "source": [
    "# parametre\n",
    "r = 1 #vekstfaktor\n",
    "K = 1 #bærekapasitet\n",
    "\n",
    "# tidsakse\n",
    "t_end = 10\n",
    "N = 10000\n",
    "h = t_end/N\n",
    "t = np.linspace(0,t_end,N+1)\n",
    "\n",
    "# løsning\n",
    "y = np.zeros(N+1)\n",
    "y[0] = 0.1\n",
    "for i in range(N):\n",
    "    y[i+1] = y[i] + h*r*y[i]*(K-y[i])\n",
    "\n",
    "plt.plot(t,y)\n",
    "\n",
    "# her får du generert en fil til figuren\n",
    "# plt.savefig('logistisk.png') "
   ]
  },
  {
   "cell_type": "markdown",
   "id": "85686636",
   "metadata": {},
   "source": [
    "<ol type=\"1.\" start=\"5.\">\n",
    "<li>   Vi skal nå implementere Eulers implisitte metode for det logistiske problemet ved å gjøre følgende:\n",
    "    <ol type=\"i)\" start=\"i)\">\n",
    "    <li> Ta utgangspunkt i koden for Eulers eksplisitte metode.\n",
    "    <li> Merk at $y_{n+1}$ er løsningen til ligningen $f(x) = -x + y_n + hF(x)=0$. Implementer Newtons metode for å finne nullpunktet til $f(x)$, altså finne $y_{n+1}$.\n",
    "    <li> Fullfør nå koden for Eulers implisitte metode.\n",
    "    </li>\n",
    "    </ol>\n",
    "En pseudokode er gitt under.\n",
    "</li>\n",
    "</ol>"
   ]
  },
  {
   "cell_type": "code",
   "execution_count": 6,
   "id": "d447f36b",
   "metadata": {},
   "outputs": [],
   "source": [
    "#(merk at f også er avhengig av parameteren y_i)\n",
    "\n",
    "# def f(x, y_i): \n",
    "    # return -x + y_i + h * F(x) (her må du fylle inn F)\n",
    "\n",
    "# def df(x, y_i):\n",
    "    # return ???\n",
    "\n",
    "# (merk at Newtons metode også må ta inn parameteren y_i)\n",
    "\n",
    "# def NewtonsMetode(f, df, a, y_i): #(se f.eks. notebooken om Newtons metode)\n",
    "\n",
    "    # ??? \n",
    "\n",
    "    # return verdien for nullpunktet \n",
    "    # (merk at NetwonsMetode i tidligere notebook returnerer et array)\n",
    "    # du kan derfor få bruk for return punkter[-1][0]\n",
    "\n",
    "#tidsakse\n",
    "\n",
    "# t_end = 10\n",
    "# N = 10000\n",
    "# h = t_end/N\n",
    "# t = np.linspace(0,t_end,N+1)\n",
    "\n",
    "#løsning\n",
    "\n",
    "# y = np.zeros(N+1)\n",
    "# y[0] = 0.1\n",
    "# for i in range(N): \n",
    "    # y[i+1] = NewtonsMetode(f, df, y[i], y[i])\n",
    "\n",
    "# plt.plot(t, y)"
   ]
  },
  {
   "cell_type": "markdown",
   "id": "b4a20a85",
   "metadata": {},
   "source": [
    "<ol type=\"1.\" start=\"6.\">\n",
    "<li> Sjekk at du har implementert riktig ved å sammenligne den numeriske løsningen med den analytiske løsningen\n",
    "<p><p>\n",
    "$$\n",
    "y(t)=\\frac{Ky_0e^{rt}}{K+y_0(e^{rt}-1)}.\n",
    "$$\n",
    "Lag et plott for feilen $e_n=|y(t_n)-y_n|$.\n",
    "<p><p>\n",
    "Lag ei løkke som løser ligningen med metoden fra Oppgave 5 med $N = 100 \\cdot 2^i$, hvor $i = 0, 1, \\ldots, 9$. Lag så en tabell som inneholder de korresponderende verdiene for $h$ og $e_N$. Du kan ta utgangspunkt i psuedokoden nedenfor. Hva kan du si om sammenhengen mellom $e_N$ og $h$?\n",
    "</li>\n",
    "</ol>"
   ]
  },
  {
   "cell_type": "code",
   "execution_count": 7,
   "id": "d6a7d002",
   "metadata": {},
   "outputs": [],
   "source": [
    "# t_end = 10\n",
    "\n",
    "# løsning for hver verdi av N: \n",
    "\n",
    "# for i in range(10): \n",
    "    # N = 100 * 2**i\n",
    "    # h = t_end/N\n",
    "    # t = np.linspace(0, t_end, N+1)\n",
    "\n",
    "    # y = np.zeros(N+1)\n",
    "    # y[0] = 0.1\n",
    "\n",
    "    # for j in range(N): \n",
    "        # y[j+1] = ???\n",
    "\n",
    "    # e_N=abs(y[N]-K*y[0]*np.exp(r*t_end)/(K + y[0]*(np.exp(r*t_end)-1)))\n",
    "    # print(???)"
   ]
  }
 ],
 "metadata": {
  "kernelspec": {
   "display_name": "Python 3",
   "language": "python",
   "name": "python3"
  },
  "language_info": {
   "codemirror_mode": {
    "name": "ipython",
    "version": 3
   },
   "file_extension": ".py",
   "mimetype": "text/x-python",
   "name": "python",
   "nbconvert_exporter": "python",
   "pygments_lexer": "ipython3",
   "version": "3.8.8"
  }
 },
 "nbformat": 4,
 "nbformat_minor": 5
}
