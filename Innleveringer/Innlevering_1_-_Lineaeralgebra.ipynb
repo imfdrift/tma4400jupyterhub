{
 "cells": [
  {
   "cell_type": "markdown",
   "id": "568bde50",
   "metadata": {},
   "source": [
    "# Innlevering 1 &mdash; Lineær algebra\n",
    "\n",
    "**TMA4400 Matematikk 1: Kalkulus og lineær algebra**\n",
    "\n",
    "Innleveringsfrist: **12. september 2025, klokka 16.00**"
   ]
  },
  {
   "cell_type": "markdown",
   "id": "14e724b2",
   "metadata": {},
   "source": [
    "---\n",
    "\n",
    "_Du **skal** levere besvarelsen din som en pdf-fil. Der skal du også legge ved all kode du eventuelt bruker._ \n",
    "\n",
    "_Du kan ta utgangspunkt i denne Jupyter notebook-en, endre den, lagre den som pdf, og levere den inn._\n",
    "\n",
    "---"
   ]
  },
  {
   "cell_type": "markdown",
   "id": "2218e4e2",
   "metadata": {},
   "source": [
    "[Regresjon](https://en.wikipedia.org/wiki/Regression_analysis) er en av de viktigste ingrediensene i maskinlæring.\n",
    "Dersom du skal forstå regresjon, \n",
    "er det lurt å først forstå [interpolasjon](https://en.wikipedia.org/wiki/Interpolation).\n",
    "Interpolasjon er kunsten å finne en funksjon som går gjennom et sett med punkter i planet. "
   ]
  },
  {
   "cell_type": "markdown",
   "id": "375185a5",
   "metadata": {},
   "source": [
    "<ol type=\"1.\" start=\"1.\">\n",
    "<li>Et kvadratisk polynom er et polynom på formen\n",
    "    \n",
    "\\begin{align*}\n",
    "p(x)=a x^2+bx+c.\n",
    "\\end{align*}\n",
    "    \n",
    "Koeffisientene $a$, $b$ og $c$ til et kvadratisk polynom som går gjennom punktene $(1,2)$, $(2,3)$ og $(3,1)$ kan bestemmes ved å sette opp et lineært ligningssystem. \n",
    "<p><p>\n",
    "Finn ligningssystemet og løs dette uten digitale hjelpemidler. \n",
    "<p><p>  \n",
    "Dobbeltsjekk utregninga di ved å plotte punktene og polynomet ved å for eksempel bruke koden under.\n",
    "</li>\n",
    "</ol>"
   ]
  },
  {
   "cell_type": "code",
   "execution_count": 1,
   "id": "92891dea",
   "metadata": {
    "vscode": {
     "languageId": "python"
    }
   },
   "outputs": [
    {
     "data": {
      "text/plain": [
       "[<matplotlib.lines.Line2D at 0x7ff01048b8e0>]"
      ]
     },
     "execution_count": 1,
     "metadata": {},
     "output_type": "execute_result"
    },
    {
     "data": {
      "image/png": "[encoded data removed]",
      "text/plain": [
       "<Figure size 432x288 with 1 Axes>"
      ]
     },
     "metadata": {
      "needs_background": "light"
     },
     "output_type": "display_data"
    }
   ],
   "source": [
    "# generisk kode for plotting\n",
    "\n",
    "# vi importerer pakkene vi trenger\n",
    "import numpy as np \n",
    "import matplotlib.pyplot as plt\n",
    "\n",
    "x = np.linspace(0,1,1000) # antall punkter i intervallet (0,1) \n",
    "y = 2*x**2+3*x+1 # legg merke til at x^2 skrives som x**2\n",
    "\n",
    "plt.plot(x, y) # plotter x langs horisontal akse og y langs vertikal akse\n",
    "plt.plot(1, 2, 'bo') # plotter punktet (1,2) som blå sirkel"
   ]
  },
  {
   "cell_type": "markdown",
   "id": "4f1fbc67",
   "metadata": {},
   "source": [
    "Da du regnet ut koeffisientene $a$, $b$ og $c$ løste du et lineært likningssystem på formen $A\\mathbf x = \\mathbf b$.\n",
    "Det er veldig vanlig at realfaglige problemstillinger leder til [lineære likningssystemer](https://en.wikipedia.org/wiki/System_of_linear_equations).\n",
    "Derfor regnes [lineær algebra](https://en.wikipedia.org/wiki/Linear_algebra) som et av de vikigste fagfeltene innen anvendt matematikk."
   ]
  },
  {
   "cell_type": "markdown",
   "id": "536654d6",
   "metadata": {},
   "source": [
    "<ol type=\"1.\" start=\"2.\" reversed>\n",
    "<li>Finn inversmatrisa til $A$, $A^{-1}$. \n",
    "<p><p>\n",
    "Dobbeltsjekk med python at du har regna riktig (se eksempelkode under). \n",
    "<p><p>\n",
    "Finn et andregradspolynom som går gjennom $(1,1)$, $(2,2)$ og $(3,2)$. \n",
    "<p><p> \n",
    "Finnes det flere andregradspolynom som går gjennom $(1,1)$, $(2,2)$ og $(3,2)$?\n",
    "</li>\n",
    "</ol>"
   ]
  },
  {
   "cell_type": "code",
   "execution_count": 2,
   "id": "98145348",
   "metadata": {
    "vscode": {
     "languageId": "python"
    }
   },
   "outputs": [
    {
     "name": "stdout",
     "output_type": "stream",
     "text": [
      "[[1. 0. 0.]\n",
      " [0. 1. 0.]\n",
      " [0. 0. 1.]]\n"
     ]
    }
   ],
   "source": [
    "# her er litt syntaks for matriseregning\n",
    "\n",
    "# vi importerer pakkene vi trenger\n",
    "import numpy as np \n",
    "\n",
    "A = np.array([[2,3,4],[3,4,5],[4,5,7]]) # her lager vi matrisa A ved å oppgi radvektorer\n",
    "B = np.linalg.inv(A) # her bruker vi den innebygde rutinen i python for å finne A^(-1)\n",
    "print(np.dot(A,B)) # her skriver vi ut matriseproduktet mellom A og B"
   ]
  },
  {
   "cell_type": "markdown",
   "id": "53834ac8",
   "metadata": {},
   "source": [
    "La $A$ være ei matrise. Vi legger merke til at for alle reelle tall $a$ og alle vektorer $\\mathbf{x}, \\mathbf{y}$, har vi at\n",
    "\n",
    "\\begin{align*}\n",
    "A(a\\mathbf x) = aA\\mathbf x\n",
    "\\hspace{10mm}\n",
    "\\text{og}\n",
    "\\hspace{10mm}\n",
    "A(\\mathbf x + \\mathbf y) = A\\mathbf x + A\\mathbf y.\n",
    "\\end{align*}\n",
    "\n",
    "Dette er nettopp egenskapene til en [lineæroperator](https://en.wikipedia.org/wiki/Linear_map)."
   ]
  },
  {
   "cell_type": "markdown",
   "id": "a3ef3e49",
   "metadata": {},
   "source": [
    "<ol type=\"1.\" start=\"3.\" reversed>\n",
    "<li>\n",
    "Finn et kvadratisk polynom som går gjennom $(1,3)$, $(2,5)$ og $(3,3)$. Vis fremgangsmåten din i detalj. \n",
    "<p><p>\n",
    "<i>Hint</i>: Du kan legge sammen de to du har. Hvorfor?\n",
    "</li>\n",
    "</ol>"
   ]
  }
 ],
 "metadata": {
  "kernelspec": {
   "display_name": "Python 3",
   "language": "python",
   "name": "python3"
  },
  "language_info": {
   "codemirror_mode": {
    "name": "ipython",
    "version": 3
   },
   "file_extension": ".py",
   "mimetype": "text/x-python",
   "name": "python",
   "nbconvert_exporter": "python",
   "pygments_lexer": "ipython3",
   "version": "3.8.8"
  }
 },
 "nbformat": 4,
 "nbformat_minor": 5
}
