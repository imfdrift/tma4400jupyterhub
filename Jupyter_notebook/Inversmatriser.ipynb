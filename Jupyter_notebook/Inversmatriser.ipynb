{
 "cells": [
  {
   "cell_type": "markdown",
   "id": "2e8b2319",
   "metadata": {},
   "source": [
    "# Inversmatriser\n",
    "\n",
    "**TMA4400 Matematikk 1: Kalkulus og lineær algebra**\n",
    "\n",
    "Dato: **01. september 2025**"
   ]
  },
  {
   "cell_type": "markdown",
   "id": "9152c047",
   "metadata": {},
   "source": [
    "## Standard Gauss-eliminasjon med redusert trappeform\n",
    "\n",
    "La $A$ være ei $n\\times n$-matrise, og $I_n$ være $n\\times n$-identitetsmatrisa. For å finne inversmatrisa $A^{-1}$, kan vi rett og slett radredusere den utvidede matrisa\n",
    "\n",
    "$$(A|I_n)$$\n",
    "\n",
    "slik at vi får den reduserte trappeformen\n",
    "\n",
    "$$(I_n|A^{-1}).$$\n",
    "\n",
    "Vi går ut i fra at pivot-elementene er forskjellig fra null."
   ]
  },
  {
   "cell_type": "code",
   "execution_count": 87,
   "id": "496959ad",
   "metadata": {},
   "outputs": [],
   "source": [
    "import numpy as np\n",
    "\n",
    "# Gauss-eliminasjon (antar at pivotelementene er forskjellig fra null i alle rader!) med redusert trappeform\n",
    "def RREF(B):\n",
    "    A = np.copy(B).astype(float) # vi lager en kopi av den gitte matrisa B, for å unngå å endre denne\n",
    "    m,n = np.shape(B) # m=rader, n=kolonner; for å kunne oppgi den utvidede matrisa, eller tom matrise\n",
    "    for k in range(0,m):\n",
    "        pivot = A[k,k]\n",
    "        for i in range(k,n):\n",
    "            A[k,i] = A[k,i]/pivot # normaliserer pivot-elementene til 1 og endrer resten av raden fra og med kolonne k\n",
    "        for j in range(0,m):\n",
    "            if j != k: # vi må gjøre radredusering både under og over rader med pivot-elementer\n",
    "                l = A[j,k]\n",
    "                for p in range(k,n):\n",
    "                    A[j,p] = A[j,p]-l*A[k,p]\n",
    "    return A"
   ]
  },
  {
   "cell_type": "markdown",
   "id": "4f1981b8",
   "metadata": {},
   "source": [
    "### Eksempel\n",
    "\n",
    "Vi kan bruke standard Gauss-eliminasjon med redusert trappeform på følgende utvidede matrise\n",
    "\n",
    "$$(A|I_2) = \\left[\\begin{array}{cc|cc} 1 & 2 & 1 & 0 \\\\ 3 & 4 & 0 & 1 \\end{array}\\right].$$\n"
   ]
  },
  {
   "cell_type": "code",
   "execution_count": 88,
   "id": "8a46d36b",
   "metadata": {},
   "outputs": [
    {
     "name": "stdout",
     "output_type": "stream",
     "text": [
      "\n",
      "Vi begynner med \n",
      "[[1 2 1 0]\n",
      " [3 4 0 1]]\n",
      "og bruker Gauss-eliminasjon som gitt over: \n",
      "[[ 1.   0.  -2.   1. ]\n",
      " [ 0.   1.   1.5 -0.5]]\n"
     ]
    }
   ],
   "source": [
    "A0 = np.array([[1.,2.,1.,0.],[3.,4.,0.,1.]])\n",
    "A1 = RREF(A0)\n",
    "print('\\nVi begynner med \\n{0}\\nog bruker Gauss-eliminasjon som gitt over: \\n{1}'.format(np.matrix(A0),np.matrix(A1)))"
   ]
  },
  {
   "cell_type": "markdown",
   "id": "2d0b951c",
   "metadata": {},
   "source": [
    "Vi konkluderer derfor med at\n",
    "\n",
    "$$A^{-1}=\\left[\\begin{array}{cc} -2 & 1 \\\\ 1.5 & -0.5 \\end{array}\\right].$$\n",
    "\n",
    "Vi sjekker så dette ved å multiplisere $A$ med $A^{-1}$:"
   ]
  },
  {
   "cell_type": "code",
   "execution_count": 89,
   "id": "ebef671a",
   "metadata": {},
   "outputs": [
    {
     "name": "stdout",
     "output_type": "stream",
     "text": [
      "[[1. 0.]\n",
      " [0. 1.]]\n"
     ]
    }
   ],
   "source": [
    "A2 = np.array([[1.,2.],[3.,4.]])\n",
    "A3 = np.array([[-2.,1.],[1.5,-0.5]])\n",
    "A4 = np.dot(A2,A3) # notasjonen for matrisemultiplikasjon i python\n",
    "print(A4)"
   ]
  }
 ],
 "metadata": {
  "kernelspec": {
   "display_name": "Python 3",
   "language": "python",
   "name": "python3"
  },
  "language_info": {
   "codemirror_mode": {
    "name": "ipython",
    "version": 3
   },
   "file_extension": ".py",
   "mimetype": "text/x-python",
   "name": "python",
   "nbconvert_exporter": "python",
   "pygments_lexer": "ipython3",
   "version": "3.8.8"
  }
 },
 "nbformat": 4,
 "nbformat_minor": 5
}
