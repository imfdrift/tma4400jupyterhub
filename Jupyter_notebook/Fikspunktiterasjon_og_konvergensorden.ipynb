{
 "cells": [
  {
   "cell_type": "markdown",
   "id": "9c0b0e95",
   "metadata": {},
   "source": [
    "# Fikspunktiterasjoner og konvergensorden\n",
    "\n",
    "**TMA4400 Matematikk 1: Kalkulus og lineær algebra**\n",
    "\n",
    "Dato: **13. oktober 2025**"
   ]
  },
  {
   "cell_type": "markdown",
   "id": "9f68f752",
   "metadata": {},
   "source": [
    "## Fikspunktiterasjoner\n",
    "\n",
    "Tidligere har vi sett at $x_0$ er et fikspunkt til funksjonen $f(x)$ dersom\n",
    "\n",
    "$$\n",
    "f(x_0)=x_0,\n",
    "$$\n",
    "\n",
    "og at vi kan finne dette fikspunktet ved å studere følgen $\\{a_n\\}_{n=0}^{\\infty}\\subseteq \\mathbb{R}$ gitt rekursivt som\n",
    "\n",
    "$$\n",
    "a_{n+1}=f(a_n),\\qquad\\text{med initialverdien $a_0$.}\n",
    "$$\n",
    "\n",
    "Vi skal nå studere fikspunktiterasjoner ytterligere."
   ]
  },
  {
   "cell_type": "markdown",
   "id": "be8adf10",
   "metadata": {},
   "source": [
    "#### Eksempel\n",
    "\n",
    "Vi husker at $x = \\sqrt 2$ er et fikspunkt for funksjonen\n",
    "\n",
    "$$\n",
    "f(x)=\\frac{1}{2}\\left(x+\\frac{2}{x}\\right)\n",
    "$$\n",
    "\n",
    "Dette fulgte fra observasjonen\n",
    "\n",
    "$$\n",
    "x^2 = 2 \\quad \\Longleftrightarrow \\quad x = \\frac 1 2 \\left(x + \\frac 2 x \\right).\n",
    "$$\n",
    "\n",
    "Men vi har også\n",
    "\n",
    "$$\n",
    "x^2 = 2 \\quad \\Longleftrightarrow \\quad x = \\frac 2 x.\n",
    "$$\n",
    "\n",
    "Altså er $x = \\sqrt 2$ også et fikspunkt for funksjonen\n",
    "\n",
    "$$\n",
    "g(x) = \\frac 2 x.\n",
    "$$\n",
    "\n",
    "La oss se nærmere på følgene\n",
    "\n",
    "$$ a_{n+1} = f(a_n) \\text{, med initialverdi } a_0 = 9$$\n",
    "\n",
    "og\n",
    "\n",
    "$$ b_{n+1} = g(b_n) \\text{, med initialverdi } b_0 = 9.$$\n",
    "\n",
    "Under finner dere python-kode for å prøve og å visualisere dette. Prøv gjerne med ulike initialverdier."
   ]
  },
  {
   "cell_type": "markdown",
   "id": "afd7f567",
   "metadata": {},
   "source": [
    "Den første kode-snutten implementerer en generell fikspunktiterasjon med hensyn til en gitt funksjon og initialverdi."
   ]
  },
  {
   "cell_type": "code",
   "execution_count": 1,
   "id": "7f4c3bbb",
   "metadata": {},
   "outputs": [],
   "source": [
    "import numpy as np\n",
    "\n",
    "# generisk iterativ fikspunktmetode\n",
    "def fikspunkt(funksjon, initialverdi, toleranse = 1.0E-8, N = 500):\n",
    "    følge = [initialverdi] \n",
    "    while True:\n",
    "        følge.append(funksjon(følge[-1]))  # legg til funksjonsverdi av det som var sist i følgen\n",
    "        if len(følge) == N: # vi avbryter etter N steg uansett\n",
    "            print(\"Fant ikke fikspunkt for gitt startverdi Returnerer nåværende verdier.\")\n",
    "            return(følge)\n",
    "        if abs(følge[-1]-følge[-2]) < toleranse: #abstand mellom de siste to er mindre enn toleranse\n",
    "            return(følge)"
   ]
  },
  {
   "cell_type": "markdown",
   "id": "f064bad3",
   "metadata": {},
   "source": [
    "Den neste kode-snutten lager en grafisk illustrasjon av iterasjonen, et såkalt cobweb-plot."
   ]
  },
  {
   "cell_type": "code",
   "execution_count": 2,
   "id": "46f5d17b",
   "metadata": {},
   "outputs": [],
   "source": [
    "import numpy as np\n",
    "import matplotlib.pyplot as plt\n",
    "\n",
    "# illustratsjon av funksjon F samt cobweb plot\n",
    "def bilde_fikspunkt(funksjon, følge, left=0.1, right=10.0):\n",
    "    x = np.linspace(left,right,10000)\n",
    "    plt.plot(x, funksjon(x), 'b') # plotter F(x) i blått \n",
    "    plt.plot(x, x, 'r')    # plotter y = x i rødt\n",
    "    for n in range(len(følge)-1):\n",
    "        plt.plot([følge[n], følge[n]], [følge[n], følge[n+1]], 'g') # lager vertikal linje mellom punktene (x,x) og (x,y)\n",
    "        plt.plot([følge[n], følge[n+1]], [følge[n+1], følge[n+1]], 'g') # lager horisontal linje mellom punktene (x,y) og (y,y)\n",
    "    plt.show()"
   ]
  },
  {
   "cell_type": "markdown",
   "id": "7bd09cd8",
   "metadata": {},
   "source": [
    "La oss nå se på fikspunktiterasjonen for $f$."
   ]
  },
  {
   "cell_type": "code",
   "execution_count": 3,
   "id": "09201f9d",
   "metadata": {},
   "outputs": [
    {
     "name": "stdout",
     "output_type": "stream",
     "text": [
      "n =   0,\t x = 9.000000000000000\n",
      "n =   1,\t x = 4.611111111111111\n",
      "n =   2,\t x = 2.522423025435073\n",
      "n =   3,\t x = 1.657655721288586\n",
      "n =   4,\t x = 1.432089434900886\n",
      "n =   5,\t x = 1.414325129015109\n",
      "n =   6,\t x = 1.414213566773468\n",
      "n =   7,\t x = 1.414213562373095\n"
     ]
    },
    {
     "data": {
      "image/png": "[encoded data removed]",
      "text/plain": [
       "<Figure size 432x288 with 1 Axes>"
      ]
     },
     "metadata": {
      "needs_background": "light"
     },
     "output_type": "display_data"
    }
   ],
   "source": [
    "# definerer funksjonen vi skal bruke\n",
    "f = lambda x: 0.5*(x + (2 / x)) \n",
    "\n",
    "a_0 = 9 # en mulig initialverdi\n",
    "\n",
    "# finner fikspunkt med gitt initialverdi\n",
    "følge = fikspunkt(f, a_0)\n",
    "\n",
    "# skriver ut punkter\n",
    "for n in range(len(følge)):\n",
    "    print(\"n = {:3d},\\t x = {:1.15f}\".format(n,følge[n]))\n",
    "\n",
    "# be om bilde\n",
    "bilde_fikspunkt(f, følge)"
   ]
  },
  {
   "cell_type": "markdown",
   "id": "899e501b",
   "metadata": {},
   "source": [
    "Nå prøver vi det samme for $g$."
   ]
  },
  {
   "cell_type": "code",
   "execution_count": 4,
   "id": "41f9ff2d",
   "metadata": {},
   "outputs": [
    {
     "name": "stdout",
     "output_type": "stream",
     "text": [
      "Fant ikke fikspunkt for gitt startverdi Returnerer nåværende verdier.\n",
      "n =   0,\t x = 9.000000000000000\n",
      "n =   1,\t x = 0.222222222222222\n",
      "n =   2,\t x = 9.000000000000000\n",
      "n =   3,\t x = 0.222222222222222\n",
      "n =   4,\t x = 9.000000000000000\n",
      "...\n",
      "n = 495,\t x = 0.222222222222222\n",
      "n = 496,\t x = 9.000000000000000\n",
      "n = 497,\t x = 0.222222222222222\n",
      "n = 498,\t x = 9.000000000000000\n",
      "n = 499,\t x = 0.222222222222222\n"
     ]
    },
    {
     "data": {
      "image/png": "[encoded data removed]",
      "text/plain": [
       "<Figure size 432x288 with 1 Axes>"
      ]
     },
     "metadata": {
      "needs_background": "light"
     },
     "output_type": "display_data"
    }
   ],
   "source": [
    "# definerer funksjonen vi skal bruke\n",
    "g = lambda x: 2/x \n",
    "\n",
    "b_0 = 9 # en mulig initialverdi\n",
    "\n",
    "# finner fikspunkt med gitt initialverdi\n",
    "følge = fikspunkt(g, b_0)\n",
    "\n",
    "# skriver ut punkter\n",
    "for n in range(5):\n",
    "    print(\"n = {:3d},\\t x = {:1.15f}\".format(n,følge[n]))\n",
    "print(\"...\")\n",
    "for n in range(495,500):\n",
    "    print(\"n = {:3d},\\t x = {:1.15f}\".format(n,følge[n]))\n",
    "\n",
    "# be om bilde\n",
    "bilde_fikspunkt(g, følge)"
   ]
  },
  {
   "cell_type": "markdown",
   "id": "4ad91ff7",
   "metadata": {},
   "source": [
    "Fikspunktiterasjonen for $b_{n+1} = g(b_n)$ konvergerer altså ikke mot $\\sqrt{2}$ selv om løsningsmengden er gitt ved $x^2=2$ også her. Under ser vi nærmere på når vi kan forvente at en fikspunktiterasjon konvergerer."
   ]
  },
  {
   "cell_type": "markdown",
   "id": "108c109b",
   "metadata": {},
   "source": [
    "## Konvergens av fikspunktiterasjoner\n",
    "\n",
    "---\n",
    "\n",
    "**Teorem 1.** Anta at $f(x)$ er kontinuerlig og at følgen $\\{a_n\\}_{n=0}^{\\infty}\\subseteq \\mathbb{R}$ gitt rekursivt som\n",
    "\n",
    "$$\n",
    "a_{n+1}=f(a_n),\\qquad\\text{med initialverdien $a_0$,}\n",
    "$$ \n",
    "\n",
    "konvergerer og har grenseverdi $\\lim_{n\\to\\infty}a_n=r$. \n",
    "\n",
    "Da er $r$ et fikspunkt for $f(x)$, det vil si $f(r) = r$.\n",
    "\n",
    "**Bevis.**\n",
    "Når $f(x)$ er kontinuerlig så er\n",
    "\n",
    "$$ \\lim_{n \\to \\infty} f(a_n) = f( \\lim_{n \\to \\infty} a_n) = f(r).$$\n",
    "\n",
    "Altså er\n",
    "\n",
    "$$ r=\\lim_{n\\to\\infty}a_{n+1}=\\lim_{n\\to\\infty}f(a_n)=f(r).$$\n",
    "\n",
    "---"
   ]
  },
  {
   "cell_type": "markdown",
   "id": "8ee95cb8",
   "metadata": {},
   "source": [
    "I Teorem 1 antar vi at grensen $\\lim_{n \\to \\infty} a_n$ eksisterer. Men når kan vi garantere at en fikspunktiterasjon $a_{n+1} = f(a_n)$ faktisk konvergerer? En tilstrekkelig betingelse er at den deriverte $f'$ ikke er for stor i absoluttverdi."
   ]
  },
  {
   "cell_type": "markdown",
   "id": "52d1d00d",
   "metadata": {},
   "source": [
    "\n",
    "---\n",
    "\n",
    "**Teorem 2.** Anta at $r$ er et fikspunkt for $f(x)$, at $f'(x)$ er kontinuerlig i et åpent intervall $I = (r-d, r+d)$, og at det finnes et tall $\\alpha < 1$ slik at $|f'(x)| \\leq \\alpha$ for alle $x \\in I$. \n",
    "\n",
    "Da vil følgen $\\{a_n\\}_{n=0}^{\\infty}\\subseteq \\mathbb{R}$ gitt rekursivt som\n",
    "\n",
    "$$\n",
    "a_{n+1}=f(a_n)\n",
    "$$ \n",
    "\n",
    "konvergere mot $r$ for alle initialverdier $a_0 \\in I$.\n",
    "\n",
    "**Bevis.**\n",
    "Beviset er basert på middelverdisetningen. Legg merke til at\n",
    "\n",
    "$$a_{n+1}-r=f(a_n)-f(r)=f'(\\xi_n)(a_n-r),\\qquad \\text{for en $\\xi_n$ mellom $a_n$ og $r$.}$$\n",
    "\n",
    "Dette gir at \n",
    "\n",
    "$$|a_{n+1}-r|=|f'(\\xi_n)||a_n-r|.$$\n",
    "\n",
    "Vi ser at hvis $a_n \\in I$ så vil $\\xi_n \\in I$, og derfor $|f'(\\xi_n)| \\leq \\alpha < 1$. Spesielt er\n",
    "\n",
    "$$|a_{n+1} - r| \\leq \\alpha |a_n - r| < \\alpha d < d,$$\n",
    "\n",
    "slik at også $a_{n+1} \\in I$.\n",
    "\n",
    "Det følger at\n",
    "\n",
    "$$ |a_{n+1} - r| \\leq \\alpha |a_n - r| \\leq \\alpha^2 |a_{n-1} - r| \\leq \\cdots \\leq \\alpha^{n+1} |a_0 - r|,$$\n",
    "\n",
    "og derfor at\n",
    "\n",
    "$$ \\lim_{n \\to \\infty} |a_n - r| = 0. $$\n",
    "\n",
    "Dette betyr at $\\lim_{n\\to\\infty}a_n=r$.\n",
    "\n",
    "---\n",
    "\n",
    "**Bemerkning.**\n",
    "Med betingelsene i teoremet kan $f(x)$ ha maksimalt ett fikspunkt i intervallet $I$:\n",
    "\n",
    "Anta at $s \\in I$ er et fikspunkt. Teorem 2 sier at følgen\n",
    "\n",
    "$$(s, f(s), f(f(s)), f(f(f(s))), \\ldots)$$\n",
    "\n",
    "konvergerer mot $r$, men siden $s$ er et fikspunkt så er denne følgen konstant lik $s$. Dette kan kun skje hvis $s = r$.\n",
    "\n",
    "---\n",
    "\n",
    "**Bemerkning.**\n",
    "Den eneste grunnen til at vi krevde at intervallet $I$ er symmetrisk rundt $r$ er at vi da kan være sikker på at alle $a_n$ er i intervallet. Vi kan bruke vilkårlige åpne intervaller $I$ med $r \\in I$ hvis vi passer på at følgen $(a_n)_{n=0}^\\infty$ holder seg i $I$.\n",
    "\n",
    "---\n",
    "\n",
    "**Bemerkning.**\n",
    "Det finnes en versjon av Teorem 2 der det ikke er nødvendig å anta at funksjonen har et fikspunkt. Dette resultatet, kjent som Banachs fikspunktteorem, går vi ikke gjennom i TMA4400.\n",
    "\n",
    "---"
   ]
  },
  {
   "cell_type": "markdown",
   "id": "66e25c8c",
   "metadata": {},
   "source": [
    "La oss nå igjen se på følgene\n",
    "\n",
    "$$\n",
    "a_{n+1} = f(a_n) \\quad \\text{ og } \\quad b_{n+1} = g(b_n)\n",
    "$$\n",
    "\n",
    "der\n",
    "\n",
    "$$\n",
    "f(x) = \\frac 1 2 \\left( x + \\frac 2 x \\right) \\quad \\text{ og } \\quad g(x) = \\frac 2 x.\n",
    "$$\n",
    "\n",
    "Vi ser at\n",
    "\n",
    "$$\n",
    "f'(x) = \\frac 1 2 - \\frac 1 {x^2}.\n",
    "$$\n",
    "\n",
    "Altså er $|f'(x)| \\leq \\frac 1 2$ for alle $x \\geq 1$, og fra Teorem 2 har vi at følgen $(a_n)_{n=0}^{\\infty}$ konvergerer mot $\\sqrt 2$ for enhver initialverdi $a_0 \\geq 1$.\n",
    "\n",
    "For funksjonen $g(x)$ ser vi at\n",
    "\n",
    "$$\n",
    "g'(x) = - \\frac 2 {x^2}.\n",
    "$$\n",
    "\n",
    "Spesielt er $g'(\\sqrt 2) = -1$, så vi kan umulig ha $|g'(x)| < 1$ i et intervall om fikspunktet $x = \\sqrt 2$. Derfor kan vi ikke anvende Teorem 2 her."
   ]
  },
  {
   "cell_type": "markdown",
   "id": "c8f8e54d",
   "metadata": {},
   "source": [
    "## Feilanalyse for fikspunktiterasjoner\n",
    "\n",
    "---\n",
    "\n",
    "**Definisjon.** Vi definerer feilen $e_n$ i steg $n$ av en fikspunktiterasjon $a_{n+1} = f(a_n)$ som  \n",
    "\n",
    "$$ e_n=|a_n-r|. $$\n",
    "\n",
    "Vi definerer også konvergensordenen til å være det positive tallet $q$ hvor grenseverdien\n",
    "\n",
    "$$\n",
    "\\lim_{n\\to\\infty}\\frac{e_{n+1}}{(e_{n})^q}\n",
    "$$\n",
    "\n",
    "eksisterer og er forskjellig fra $0$.\n",
    "\n",
    "---\n",
    "\n",
    "Fra beviset av Teorem 2 ser vi at\n",
    "\n",
    "$$\n",
    "\\lim_{n\\to\\infty}\\frac{e_{n+1}}{e_{n}}=\\lim_{n\\to\\infty}|f'(\\xi_n)|=|f'(r)|.\n",
    "$$\n",
    "\n",
    "Altså er konvergensorden for fikspunktiterasjonen med $f(x)$ lik 1 dersom $0 \\neq |f'(r)|<1$. \n",
    "\n",
    "Merk at $|f'(r)|<1$ impliserer at feilen avtar. \n",
    "\n",
    "I eksempelet hvor $f(x)=\\frac{1}{2}(x+\\frac{2}{x})$ ser vi at $f'(\\sqrt{2})=0$. I dette tilfellet må vi gjøre en grundigere analyse for å fastslå konvergensordenen $q$. Fra Taylors teorem får vi\n",
    "\n",
    "$$\n",
    "f(a_n) - r = f(a_n) - f(r) = \\frac 1 2 f''(\\xi_n) (a_n - r)^2\n",
    "$$\n",
    "for en $\\xi_n$ mellom $a_n$ og $r$. Dette gir\n",
    "\n",
    "$$\n",
    "\\lim_{n\\to\\infty}\\frac{e_{n+1}}{(e_{n})^2}=\\lim_{n\\to\\infty}\\frac{1}{2}|f''(\\xi_n)|=\\frac{1}{2}|f''(r)|,\n",
    "$$\n",
    "\n",
    "hvor \n",
    "\n",
    "$$\n",
    "\\frac{1}{2}|f''(\\sqrt{2})|=\\frac{1}{2}\\left|\\frac{2}{(\\sqrt{2})^3}\\right|\\approx0.3535534.\n",
    "$$\n",
    "\n",
    "La oss teste denne teorien numerisk:"
   ]
  },
  {
   "cell_type": "code",
   "execution_count": 5,
   "id": "acfd86cc",
   "metadata": {},
   "outputs": [
    {
     "name": "stdout",
     "output_type": "stream",
     "text": [
      "følgens verdi =            9, rota av 2 = 1.4142135623730951\n",
      "følgens verdi = 4.611111111111111, rota av 2 = 1.4142135623730951\n",
      "utregnet forhold = 0.05555555555555555, teoretisk forhold = 0.3535533905932738\n",
      "============================================\n",
      "følgens verdi = 2.5224230254350735, rota av 2 = 1.4142135623730951\n",
      "utregnet forhold = 0.10843373493975902, teoretisk forhold = 0.3535533905932738\n",
      "============================================\n",
      "følgens verdi = 1.6576557212885863, rota av 2 = 1.4142135623730951\n",
      "utregnet forhold = 0.19822210428552478, teoretisk forhold = 0.3535533905932738\n",
      "============================================\n",
      "følgens verdi = 1.4320894349008857, rota av 2 = 1.4142135623730951\n",
      "utregnet forhold = 0.30163078712829466, teoretisk forhold = 0.3535533905932738\n",
      "============================================\n",
      "følgens verdi = 1.4143251290151087, rota av 2 = 1.4142135623730951\n",
      "utregnet forhold = 0.3491402057823368, teoretisk forhold = 0.3535533905932738\n",
      "============================================\n",
      "følgens verdi = 1.4142135667734679, rota av 2 = 1.4142135623730951\n",
      "utregnet forhold = 0.3535254970448626, teoretisk forhold = 0.3535533905932738\n",
      "============================================\n",
      "følgens verdi = 1.414213562373095, rota av 2 = 1.4142135623730951\n",
      "utregnet forhold = 11.467303203178787, teoretisk forhold = 0.3535533905932738\n",
      "============================================\n"
     ]
    }
   ],
   "source": [
    "# definerer funksjonen vi skal bruke\n",
    "f = lambda x: 0.5*(x+(2/x)) # vi bruker f(x)\n",
    "\n",
    "a_0 = 9 # en mulig initialverdi nærme rota av 2\n",
    "\n",
    "# finner fikspunkt med gitt initialverdi\n",
    "følge = fikspunkt(f, a_0)\n",
    "\n",
    "# sjekker forholdet e_{n+1}/(e_n)^2\n",
    "print(\"følgens verdi = {:>12}, rota av 2 = {:>12}\".format(str(følge[0]), str(np.sqrt(2))))\n",
    "for i in range(1,len(følge)):\n",
    "    print(\"følgens verdi = {:>12}, rota av 2 = {:>12}\".format(str(følge[i]), str(np.sqrt(2))))\n",
    "    print(\"utregnet forhold = {:>12}, teoretisk forhold = {:>12}\".format(str(abs(følge[i]-np.sqrt(2))/(abs(følge[i-1]-np.sqrt(2))**2)), str(2**(-3/2))))\n",
    "    print(\"============================================\")"
   ]
  },
  {
   "cell_type": "markdown",
   "id": "27e2499c",
   "metadata": {},
   "source": [
    "Det siste utregningen av forholdet $\\frac{e_{n+1}}{(e_n)^2}$ gir et for høyt tall pga. flyttallsfeil. Merk at $a_n$ likevel kommer nærmere og nærmere verdien av $\\sqrt{2}$ for hver utregning."
   ]
  }
 ],
 "metadata": {
  "kernelspec": {
   "display_name": "Python 3",
   "language": "python",
   "name": "python3"
  },
  "language_info": {
   "codemirror_mode": {
    "name": "ipython",
    "version": 3
   },
   "file_extension": ".py",
   "mimetype": "text/x-python",
   "name": "python",
   "nbconvert_exporter": "python",
   "pygments_lexer": "ipython3",
   "version": "3.8.8"
  }
 },
 "nbformat": 4,
 "nbformat_minor": 5
}
