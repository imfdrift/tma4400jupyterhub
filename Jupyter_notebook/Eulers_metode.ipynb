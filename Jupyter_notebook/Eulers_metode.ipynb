{
 "cells": [
  {
   "cell_type": "markdown",
   "id": "cee3b66f",
   "metadata": {},
   "source": [
    "# Eulers metode\n",
    "\n",
    "**TMA4400 Matematikk 1: Kalkulus og lineær algebra**\n",
    "\n",
    "Dato: **27. oktober 2025**"
   ]
  },
  {
   "cell_type": "markdown",
   "id": "648f51a2",
   "metadata": {},
   "source": [
    "## Eulers eksplisitte metode\n",
    "\n",
    "Vi skal se på følgende initialverdiproblem:\n",
    "\n",
    "\\begin{align*}\n",
    "\\begin{cases}\n",
    "y'(t)=F(t,y(t)),& \\qquad t\\in(t_0,t_{\\text{end}}],\\\\\n",
    "y(t_0)=y_0.\n",
    "\\end{cases}\n",
    "\\end{align*}\n",
    "\n",
    "Vi deler nå opp intervallet $[t_0,t_{\\text{end}}]$ i like store deler. For $N\\in \\mathbb{N}$, definerer vi altså steglengden $h$ og nodene $t_n$ ved\n",
    "\n",
    "$$\n",
    "h=\\dfrac{t_{\\text{end}}-t_0}N\\qquad \\text{og}\\qquad t_{n+1}=t_n+h\\qquad\\text{for $n=0,1,\\dots,N-1$,}\n",
    "$$\n",
    "\n",
    "hvor $t_{\\text{end}}=t_N$.\n",
    "\n",
    "Anvend så Taylors teorem på $y(t)$ om punktet $t=t_0$:\n",
    "\n",
    "$$\n",
    "y(t_0 + h) = y(t_0) + h y'(t_0) + \\frac{1}{2}h^2 y''(\\xi)\n",
    "\\qquad\\text{for $\\xi\\in(t_0,t_1)$.}\n",
    "$$\n",
    "\n",
    "For små steglengder $h$ og begrensede $y''(t)$, har vi at\n",
    "\n",
    "$$\n",
    "y(t_1) = y(t_0+h) \\approx y(t_0) + h y'(t_0) = y_0 + h F(t_0, y_0) =: y_1.\n",
    "$$\n",
    "\n",
    "Altså har vi brukt lineær tilnærming til å approksimere verdien $y(t_1)$ ved hjelp av $y_1$. \n",
    "\n",
    "Vi finner $y_{n+1}=y(t_{n+1})$, for $n=0,1,\\dots,N-1$, på tilsvarende måte:\n",
    "\n",
    "\\begin{align*}\n",
    "y_{n+1}&=y_n + h F(t_n,y_n),\\\\\n",
    "t_{n+1}&=t_n+h.\n",
    "\\end{align*}\n",
    "\n",
    "La oss nå implementere dette i python."
   ]
  },
  {
   "cell_type": "code",
   "execution_count": 1,
   "id": "e8553cd7",
   "metadata": {},
   "outputs": [],
   "source": [
    "import numpy as np\n",
    "import matplotlib.pyplot as plt\n",
    "\n",
    "def euler_eksplisitt(F, t, y, h):\n",
    "    # ett steg med Eulers eksplisitte metode\n",
    "    y = y + h*F(t, y)\n",
    "    t = t + h\n",
    "    return t, y"
   ]
  },
  {
   "cell_type": "code",
   "execution_count": 2,
   "id": "59c0f11f",
   "metadata": {},
   "outputs": [],
   "source": [
    "def ode_løser(F, t0, tend, y0, h, metode=euler_eksplisitt):\n",
    "    # Generisk numerisk løser for ordinære differensialligninger\n",
    "    #    y' = F(t,y), y(t0)=y0\n",
    "    # Input: F, integrasjonsintervallet t0 og tend, \n",
    "    #        steglengden h og metoden vi velger  \n",
    "    #   \n",
    "    # Output: array-er med t- og y-verdiene. \n",
    "    \n",
    "    y_num = np.array([y0])    # array for den numeriske løsningen y \n",
    "    t_num = np.array([t0])    # array for t-verdiene\n",
    "\n",
    "    tn = t0                \n",
    "    yn = y0 \n",
    "\n",
    "    # hovedløkka\n",
    "    while tn < tend - 1.e-10:            # vi kjører mens vi er strengt mindre enn t_end        \n",
    "        tn, yn = metode(F, tn, yn, h)    # ett steg med metoden vi velger\n",
    "        \n",
    "        # utvider array-ene for t and y\n",
    "        y_num = np.concatenate((y_num, np.array([yn])))\n",
    "        t_num = np.append(t_num,tn)\n",
    "        \n",
    "    return t_num, y_num"
   ]
  },
  {
   "cell_type": "markdown",
   "id": "6e9f95bc",
   "metadata": {},
   "source": [
    "#### Eksempel\n",
    "\n",
    "Vi skal nå finne den numeriske løsningen av initialverdiproblemet\n",
    "\n",
    "\\begin{align*}\n",
    "\\begin{cases}\n",
    "y'(t)=-2ty(t),& \\qquad t\\in(0,1],\\\\\n",
    "y(0)=1\n",
    "\\end{cases}\n",
    "\\end{align*}\n",
    "\n",
    "ved hjelp av Eulers eksplisitte metode. Den eksakte løsningen er $y(t)=e^{-t^2}$.\n",
    "\n",
    "Vi prøver med steglengdene  $h=0.1$, $h=0.05$ og $h=0.025$, og vi sammenligner så med den eksakte løsningen."
   ]
  },
  {
   "cell_type": "code",
   "execution_count": 3,
   "id": "8a5b2b70",
   "metadata": {},
   "outputs": [
    {
     "data": {
      "image/png": "[encoded data removed]",
      "text/plain": [
       "<Figure size 432x288 with 1 Axes>"
      ]
     },
     "metadata": {
      "needs_background": "light"
     },
     "output_type": "display_data"
    }
   ],
   "source": [
    "# vi definerer høyresiden\n",
    "def F(t, y):\n",
    "    return -2*t*y\n",
    "\n",
    "# den eksakte løsningen\n",
    "def y_eksakt(t):\n",
    "    return np.exp(-t**2)\n",
    "\n",
    "t0 = 0                        # første tidspunkt\n",
    "tend = 1                      # siste tidspunkt\n",
    "y0 = 1                        # initialverdien for y\n",
    "h = 0.1                       # steglengden, prøv med andre verdier her\n",
    "\n",
    "# vi løser ligningen\n",
    "t_num, y_num = ode_løser(F, t0, tend, y0, h)\n",
    "\n",
    "# vi plotter den eksakte løsningen\n",
    "t = np.linspace(t0, tend, 101)\n",
    "plt.plot(t, y_eksakt(t))\n",
    "\n",
    "# vi plotter den numeriske løsningen\n",
    "plt.plot(t_num, y_num, '.-')\n",
    "\n",
    "plt.xlabel('t')\n",
    "plt.ylabel('y(t)')\n",
    "plt.grid(True)\n",
    "plt.legend(['Eksakt', 'Euler']);"
   ]
  },
  {
   "cell_type": "markdown",
   "id": "1980d761",
   "metadata": {},
   "source": [
    "## Feilanalyse for Eulers eksplisitte metode\n",
    "\n",
    "Vi lar nå feilen være gitt som\n",
    "\n",
    "$$\n",
    "e_n = |y(t_n)-y_{n}|,\\qquad\\text{for $n=0,1,\\ldots,N$.}\n",
    "$$"
   ]
  },
  {
   "cell_type": "code",
   "execution_count": 4,
   "id": "a9ccc756",
   "metadata": {},
   "outputs": [
    {
     "name": "stdout",
     "output_type": "stream",
     "text": [
      "max_n e_n =  0.03480305692859509\n"
     ]
    },
    {
     "data": {
      "image/png": "[encoded data removed]",
      "text/plain": [
       "<Figure size 432x288 with 1 Axes>"
      ]
     },
     "metadata": {
      "needs_background": "light"
     },
     "output_type": "display_data"
    }
   ],
   "source": [
    "feil = abs(y_eksakt(t_num)-y_num)           # feilen er gitt som differansen mellom eksakt og numerisk løsning\n",
    "plt.plot(t_num, feil, '.-')\n",
    "plt.xlabel('t')\n",
    "plt.ylabel('Feilen i Eulers metode')\n",
    "plt.grid(True)\n",
    "print(\"max_n e_n = \", max(feil))            # vi skriver ut feilen målt som den største differansen"
   ]
  },
  {
   "cell_type": "markdown",
   "id": "781b819e",
   "metadata": {},
   "source": [
    "La oss nå undersøke hvordan feilen oppfører seg ved å lage en tabell:"
   ]
  },
  {
   "cell_type": "code",
   "execution_count": 5,
   "id": "9ae19522",
   "metadata": {},
   "outputs": [
    {
     "name": "stdout",
     "output_type": "stream",
     "text": [
      "i    h                 e_N         y_num\n",
      "---------------------------------------------\n",
      "0    1.000e-01        1.383e-02      0.38170668\n",
      "1    5.000e-02        6.505e-03      0.37438402\n",
      "2    2.500e-02        3.157e-03      0.3710364\n",
      "3    1.250e-02        1.555e-03      0.36943486\n",
      "4    6.250e-03        7.720e-04      0.36865147\n",
      "5    3.125e-03        3.846e-04      0.36826405\n",
      "6    1.563e-03        1.920e-04      0.36807139\n",
      "7    7.813e-04        9.589e-05      0.36797533\n",
      "8    3.906e-04        4.792e-05      0.36792736\n",
      "9    1.953e-04        2.396e-05      0.3679034\n"
     ]
    }
   ],
   "source": [
    "h = 0.1                     # steglengde\n",
    "t0, tend = 0, 1             # integrasjonsintervall\n",
    "y0 = 1                      # initialverdi\n",
    "\n",
    "print('i    h                 e_N         y_num\\n---------------------------------------------')\n",
    "\n",
    "for i in range(10):\n",
    "    t_num, y_num = ode_løser(F, t0, tend, y0, h)    # løser ligningen\n",
    "    feil = abs(y_eksakt(tend)-y_num[-1])            # feilen i endepunktet tend\n",
    "    print(format('{:}    {:.3e}        {:.3e}      {:.8}'.format( i, h, feil, float(y_num[-1]))))        \n",
    "    h = 0.5*h                                       # reduserer steglengden"
   ]
  },
  {
   "cell_type": "markdown",
   "id": "ec3aa4bd",
   "metadata": {},
   "source": [
    "For hver iterasjon $i$, halverer vi $h$, og vi ser at $e_N$ også blir halvert. Tilsynelatende har vi derfor at\n",
    "\n",
    "$$\n",
    "e_N = |y(t_{\\text{end}})-y_N|\\approx Ch.\n",
    "$$"
   ]
  },
  {
   "cell_type": "markdown",
   "id": "8a23524d",
   "metadata": {},
   "source": [
    "La oss analysere dette nærmere. På grunn av Taylor-utviklingen vi gjorde tidligere, og definisjonen av $y_n$, har vi at\n",
    "\n",
    "$$\n",
    "y(t_n)-y_n = y(t_{n-1}+h)-y_n = \\Big(y(t_{n-1}) + h y'(t_{n-1}) + \\frac{1}{2}h^2 y''(\\xi)\\Big)-\\Big(y_{n-1} + h F(t_{n-1},y_{n-1})\\Big),\n",
    "$$\n",
    "\n",
    "for $\\xi\\in(t_{n-1},t_{n})$. Hvis vi nå antar at metoden var eksakt i forrige steg $y_{n-1}=y(t_{n-1})$ og at ligningen holder $y'(t_{n-1})=F(t_{n-1},y(t_{n-1}))$, får vi\n",
    "\n",
    "$$\n",
    "y(t_n)-y_n=\\frac{1}{2}h^2 y''(\\xi)\\qquad \\text{eller} \\qquad e_n=\\frac{1}{2}h^2 |y''(\\xi)|\\leq \\frac{1}{2}h^2\\max_{t\\in[t_0,t_{\\text{end}}]}|y''(t)|\\leq Ch^2.\n",
    "$$\n",
    "\n",
    "Her får vi at feilen $e_N\\approx Ch^2$, men dette var under forutsetning av at metoden var eksakt i steget $e_{N-1}$. For å få den faktiske feilen må vi gjøre en dypere analyse, som vi ikke går nærmere inn på her."
   ]
  },
  {
   "cell_type": "markdown",
   "id": "b6152aca",
   "metadata": {},
   "source": [
    "---\n",
    "\n",
    "**Definisjon.** Vi sier at metoden er konsistent, altså at metoden faktisk løser problemet, dersom\n",
    "\n",
    "$$\n",
    "\\lim_{h\\to0+}\\frac{e_n}{h}=0.\n",
    "$$\n",
    "\n",
    "---\n",
    "\n",
    "Eulers eksplisitte metode er altså konsistent.\n",
    "\n",
    "---\n",
    "\n",
    "**Bemerkning.** En betingelse som er fristende å bruke er\n",
    "\n",
    "$$\n",
    "\\lim_{h\\to0+}e_n=0,\n",
    "$$\n",
    "\n",
    "men dette er oppfylt for fine nok funksjoner $y(t)$, uavhengig av om de løser initialverdiproblemet eller ikke:\n",
    "\n",
    "\\begin{align*}\n",
    "e_n=|y(t_n)-y_n| &= |y(t_{n-1}+h)-y_n| = \\Big|\\Big(y(t_{n-1}) + h y'(\\xi)\\Big)-\\Big(y(t_{n-1})+hF(t_{n-1},y(t_{n-1}))\\Big)\\Big|\\\\\n",
    "&\\leq h \\Big(|y'(\\xi)|+|F(t_{n-1},y(t_{n-1})|\\Big).\n",
    "\\end{align*}\n",
    "\n",
    "---"
   ]
  },
  {
   "cell_type": "markdown",
   "id": "7d8a953b",
   "metadata": {},
   "source": [
    "Legg merke til et første ordens polynom $y(t)=at+b$ løser $y'(t)=a$. Da er $y''(t)=0$ og $e_n=0$. Hvis derimot $y(t)=at^2+bt+c$, altså et andre ordens polynom, vil $y''(t)=2a\\neq0$ og $e_n=ah^2$.\n",
    "\n",
    "---\n",
    "\n",
    "**Definisjon.** Vi sier at metoden har orden $m$ dersom $e_n=O(h^{m+1})$.\n",
    "\n",
    "---\n",
    "\n",
    "Vi ser derfor at Eulers eksplisitte metode har orden lik 1. Metoden er altså eksakt for første ordens polynomer.\n",
    "\n",
    "---\n",
    "\n",
    "**Bemerkning.** En metode med orden $m>0$ er altså konsistent.\n",
    "\n",
    "---"
   ]
  },
  {
   "cell_type": "markdown",
   "id": "47a450a9",
   "metadata": {},
   "source": [
    "## Eulers implisitte metode\n",
    "\n",
    "Vi fortsetter med det samme initialverdiproblemet:\n",
    "\n",
    "\\begin{align*}\n",
    "\\begin{cases}\n",
    "y'(t)=F(t,y(t)),& \\qquad t\\in(t_0,t_{\\text{end}}],\\\\\n",
    "y(t_0)=y_0.\n",
    "\\end{cases}\n",
    "\\end{align*}\n",
    "\n",
    "Vi beholder også steglengden $h$ og nodene $t_n$:\n",
    "\n",
    "$$\n",
    "h=\\dfrac{t_{\\text{end}}-t_0}N\\qquad \\text{og}\\qquad t_{n+1}=t_n+h\\qquad\\text{for $n=0,1,\\dots,N-1$.}\n",
    "$$\n",
    "\n",
    "Men vi finner $y_{n+1}=y(t_{n+1})$, for $n=0,1,\\dots,N$, på følgende måte:\n",
    "\n",
    "\\begin{align*}\n",
    "y_{n+1}&=y_n + h F(t_{n+1},y_{n+1}),\\\\\n",
    "t_{n+1}&=t_n+h.\n",
    "\\end{align*}\n"
   ]
  },
  {
   "cell_type": "markdown",
   "id": "29a5b431",
   "metadata": {},
   "source": [
    "La oss analysere metoden ved hjelp av Taylors teorem anvendt på $y(t_n-h)$,\n",
    "\n",
    "$$\n",
    "y(t_{n-1})=y(t_{n}-h)=y(t_{n}) - h y'(t_n) + \\frac{1}{2}h^2 y''(\\xi), \\qquad \\text{for $\\xi\\in(t_{n-1},t_n)$.}\n",
    "$$\n",
    "\n",
    "slik at vi ved å anta at $y(t_{n-1})=y_{n-1}$ får\n",
    "\n",
    "\\begin{align*}\n",
    "y(t_n)-y_{n} &= \\Big(y(t_{n-1}) + h F(t_{n},y(t_{n})) - \\frac{1}{2}h^2 y''(\\xi)\\Big)-\\Big(y(t_{n-1})+hF(t_{n},y_n)\\Big)\\\\\n",
    "&=h\\Big(F(t_{n},y(t_{n}))-F(t_{n},y_n)\\Big)-\\frac{1}{2}h^2 y''(\\xi).\n",
    "\\end{align*}\n",
    "\n",
    "For å fortsette må vi anta at $F(t,y(t))=F(y(t))$. Da kan vi bruke middelverditeoremet på $F(y(t))$:\n",
    "\n",
    "$$\n",
    "F(t_{n},y(t_{n}))-F(t_{n},y_n)=F(y(t_{n}))-F(y_n)=F'(\\zeta)(y(t_n)-y_n),\\qquad\\text{for $\\zeta$ mellom $y_n$ og $y(t_n)$.}\n",
    "$$\n",
    "\n",
    "Dermed får vi\n",
    "\n",
    "$$\n",
    "(1-hF'(\\zeta))(y(t_n)-y_n))=-\\frac{1}{2}h^2 y''(\\xi)\\qquad\\Longleftrightarrow\\qquad y(t_n)-y_n)=-\\frac{\\frac{1}{2}h^2 y''(\\xi)}{1-hF'(\\zeta)},\n",
    "$$\n",
    "\n",
    "eller\n",
    "\n",
    "\\begin{align*}\n",
    "e_n \\leq \\frac{\\frac{1}{2}h^2 |y''(\\xi)|}{|1-hF'(\\xi)|}\\leq \\frac{1}{2}h^2 |y''(\\xi)|,\\qquad\\text{for $h$ liten nok og $|F'(\\zeta)|$ begrenset.}\n",
    "\\end{align*}\n",
    "\n",
    "Eulers implisitte metode har altså orden lik 1 den også, og er dermed konsistent."
   ]
  },
  {
   "cell_type": "markdown",
   "id": "0a85a8aa",
   "metadata": {},
   "source": [
    "Det er ikke like enkelt å implementere Eulers implisitte metode siden vi har $y_{n+1}$ både på venstre og høyre side av likheten. Verdien $y_{n+1}$ er altså gitt implisitt. \n",
    "\n",
    "Hvis vi nå antar at $F(t,y)=F(y)$, kan vi gjøre følgende: La $y_{n+1}=x$, da får vi\n",
    "\n",
    "$$\n",
    "x = y_n + hF(x) \\qquad \\Longleftrightarrow \\qquad 0 = -x + y_n + hF(x) =: f(x).\n",
    "$$\n",
    "\n",
    "Vi kan altså finne $x=y_{n+1}$ ved å finne nullpunktet til funksjonen $f(x)$. Dette kan vi f. eks. gjøre med Newtons metode: Gitt $a_0=y_n$, får vi\n",
    "\n",
    "$$\n",
    "a_{n+1} = a_n - \\frac{f(a_n)}{f'(a_n)} = a_n - \\frac{hF(a_n)-a_n+a_0}{hF'(a_n)-1}.\n",
    "$$\n",
    "\n",
    "Prøv gjerne å implementere Eulers implisitte metode."
   ]
  },
  {
   "cell_type": "markdown",
   "id": "7b1cc297",
   "metadata": {},
   "source": [
    "## Ustabilitet i Eulers eksplisitte metode\n",
    "\n",
    "Selv om de to metodene vi har sett på har lik orden, er Eulers implisitte metode av og til å foretrekke siden den er mer stabil enn Eulers eksplisitte metode. Den implisitte metoden er selvsagt dyrere å implementere, og derfor kan det være greit å bruke Eulers eksplisitte metode også. Vi skal ikke gå videre inn i analysen av akkurat denne problemstillingen, men vi ønsker å belyse det hele med et eksempel hvor Eulers eksplisitte metode ikke nødvendigvis fungerer så bra.\n",
    "\n",
    "La oss se på følgende initialverdiproblem:\n",
    "\n",
    "\\begin{align*}\n",
    "\\begin{cases}\n",
    "y'(t)=-y(t),& \\qquad t\\in(0,10],\\\\\n",
    "y(0)=1.\n",
    "\\end{cases}\n",
    "\\end{align*}\n",
    "\n",
    "Den eksakte løsningen er $y(t)=e^{-t}$, og denne går ganske raskt mot null når $t$ vokser. La videre \n",
    "\n",
    "$$\n",
    "h = \\frac{10-0}{5}=2 \\qquad\\text{og}\\qquad t_0=0,\\ t_1=2,\\ t_2=4,\\ t_3=6,\\ t_4=8,\\ t_5=10.\n",
    "$$"
   ]
  },
  {
   "cell_type": "code",
   "execution_count": 6,
   "id": "632a3e45",
   "metadata": {},
   "outputs": [
    {
     "data": {
      "image/png": "[encoded data removed]",
      "text/plain": [
       "<Figure size 432x288 with 1 Axes>"
      ]
     },
     "metadata": {
      "needs_background": "light"
     },
     "output_type": "display_data"
    }
   ],
   "source": [
    "# vi definerer høyresiden\n",
    "def G(t, y):\n",
    "    return -y\n",
    "\n",
    "# den eksakte løsningen\n",
    "def Y_eksakt(t):\n",
    "    return np.exp(-t)\n",
    "\n",
    "t0 = 0                        # første tidspunkt\n",
    "tend = 10                     # siste tidspunkt\n",
    "y0 = 1                        # initialverdien for y\n",
    "h = 2                         # steglengden, prøv med andre verdier her\n",
    "\n",
    "# vi løser ligningen\n",
    "t_num, y_num = ode_løser(G, t0, tend, y0, h)\n",
    "\n",
    "# vi plotter den eksakte løsningen\n",
    "t = np.linspace(t0, tend, 101)\n",
    "plt.plot(t, Y_eksakt(t))\n",
    "\n",
    "# vi plotter den numeriske løsningen\n",
    "plt.plot(t_num, y_num, '.-')\n",
    "\n",
    "plt.xlabel('t')\n",
    "plt.ylabel('y(t)')\n",
    "plt.grid(True)\n",
    "plt.legend(['Eksakt', 'Euler']);"
   ]
  },
  {
   "cell_type": "markdown",
   "id": "d280435e",
   "metadata": {},
   "source": [
    "La oss se nærmere på feilen $e_N$:"
   ]
  },
  {
   "cell_type": "code",
   "execution_count": 7,
   "id": "445f4548",
   "metadata": {},
   "outputs": [
    {
     "name": "stdout",
     "output_type": "stream",
     "text": [
      "i    h                 e_N         y_num\n",
      "---------------------------------------------\n",
      "0    8.000e+00        4.900e+01      49.0\n",
      "1    4.000e+00        2.700e+01      -27.0\n",
      "2    2.000e+00        1.000e+00      -1.0\n",
      "3    1.000e+00        4.540e-05      0.0\n",
      "4    5.000e-01        4.445e-05      9.5367432e-07\n",
      "5    2.500e-01        3.534e-05      1.0056585e-05\n",
      "6    1.250e-01        2.246e-05      2.2942685e-05\n",
      "7    6.250e-02        1.264e-05      3.2764551e-05\n",
      "8    3.125e-02        6.697e-06      3.8703386e-05\n",
      "9    1.562e-02        3.446e-06      4.195351e-05\n"
     ]
    }
   ],
   "source": [
    "h = 8                       # steglengde\n",
    "t0, tend = 0, 10            # integrasjonsintervall\n",
    "y0 = 1                      # initialverdi\n",
    "\n",
    "print('i    h                 e_N         y_num\\n---------------------------------------------')\n",
    "\n",
    "for i in range(10):\n",
    "    t_num, y_num = ode_løser(G, t0, tend, y0, h)    # løser ligningen\n",
    "    feil = abs(Y_eksakt(tend)-y_num[-1])            # feilen i endepunktet tend\n",
    "    print(format('{:}    {:.3e}        {:.3e}      {:.8}'.format( i, h, feil, float(y_num[-1]))))        \n",
    "    h = 0.5*h                                       # reduserer steglengden"
   ]
  },
  {
   "cell_type": "markdown",
   "id": "a3963678",
   "metadata": {},
   "source": [
    "Fra tabellen ser vi at hvis vi velger steglengden $h$ liten nok, vil feilen bli mindre også her. Vi kan selvsagt kvantifisere hva liten nok egentlig er, men altså ikke i TMA4400."
   ]
  }
 ],
 "metadata": {
  "kernelspec": {
   "display_name": "Python 3",
   "language": "python",
   "name": "python3"
  },
  "language_info": {
   "codemirror_mode": {
    "name": "ipython",
    "version": 3
   },
   "file_extension": ".py",
   "mimetype": "text/x-python",
   "name": "python",
   "nbconvert_exporter": "python",
   "pygments_lexer": "ipython3",
   "version": "3.8.8"
  }
 },
 "nbformat": 4,
 "nbformat_minor": 5
}
