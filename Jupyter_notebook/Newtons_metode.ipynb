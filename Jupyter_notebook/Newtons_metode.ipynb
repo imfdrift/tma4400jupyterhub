{
 "cells": [
  {
   "cell_type": "markdown",
   "id": "58acd230",
   "metadata": {},
   "source": [
    "# Newtons metode\n",
    "\n",
    "**TMA4400 Matematikk 1: Kalkulus og lineær algebra**\n",
    "\n",
    "Dato: **13. oktober 2025**"
   ]
  },
  {
   "cell_type": "markdown",
   "id": "85d9c29b",
   "metadata": {},
   "source": [
    "## Newtons metode\n",
    "\n",
    "Tidligere så vi at $x_0$ er en rot eller et nullpunkt til $f(x)$ dersom\n",
    "\n",
    "$$\n",
    "f(x_0)=0.\n",
    "$$\n",
    "\n",
    "Ideen i Newtons metode er å bytte ut funksjonen $f(x)$ med den lineære tilnærmingen av $f(x)$ om punktet $x=a_n$:\n",
    "\n",
    "$$\n",
    "f(x)\\approx f(a_n)+f'(a_n)(x-a_n).\n",
    "$$\n",
    "\n",
    "Vi får da\n",
    "\n",
    "$$\n",
    "f(a_n)+f'(a_n)(x-a_n)=0 \\qquad\\Longleftrightarrow\\qquad x=a_n-\\frac{f(a_n)}{f'(a_n)}\n",
    "$$\n",
    "\n",
    "Nå bør da $x$ være en approksimasjon av $x_0$, og vi lar derfor $x=a_{n+1}$. Dette gir oss den rekursive følgen\n",
    "\n",
    "$$\n",
    "a_{n+1}=a_n-\\frac{f(a_n)}{f'(a_n)},\\qquad\\text{med initialverdien $a_0$.}\n",
    "$$\n",
    "\n",
    "La oss implementere Newtons metode for \n",
    "\n",
    "$$\n",
    "f(x)=x^2-2,\n",
    "$$\n",
    "\n",
    "med $f'(x)=2x$."
   ]
  },
  {
   "cell_type": "code",
   "execution_count": 1,
   "id": "c17ffe60",
   "metadata": {},
   "outputs": [],
   "source": [
    "import numpy as np\n",
    "\n",
    "# generisk newtons metode\n",
    "def newton(F, dF, a, toleranse = 1.0E-10, N = 500):\n",
    "    Fa = F(a)\n",
    "    dFa = dF(a)\n",
    "    n = 0\n",
    "    punkter = [(a, Fa)] \n",
    "    while abs(Fa-0) >= toleranse and n < N: # vi gjør dette mens |F(x)-0|>=toleranse og n<N\n",
    "        a = a-Fa/dFa   # ny initialverdi\n",
    "        n = n+1        # ny n\n",
    "        Fa = F(a)      # ny F(x)\n",
    "        dFa = dF(a)    # ny dF(x)\n",
    "        punkter.append((a, Fa))\n",
    "    if n >= N:\n",
    "        print(\"Fant ikke fikspunkt for gitt startverdi. Returnerer nåværende verdier.\")\n",
    "        return punkter\n",
    "    else: \n",
    "        return punkter"
   ]
  },
  {
   "cell_type": "code",
   "execution_count": 2,
   "id": "05da8a9d",
   "metadata": {},
   "outputs": [
    {
     "name": "stdout",
     "output_type": "stream",
     "text": [
      "n =   0,\t x = 9.000000000000000,\t F(x) = 79.000000000000000\n",
      "n =   1,\t x = 4.611111111111111,\t F(x) = 19.262345679012341\n",
      "n =   2,\t x = 2.522423025435073,\t F(x) = 4.362617919245030\n",
      "n =   3,\t x = 1.657655721288586,\t F(x) = 0.747822490320783\n",
      "n =   4,\t x = 1.432089434900886,\t F(x) = 0.050880149554738\n",
      "n =   5,\t x = 1.414325129015108,\t F(x) = 0.000315570563603\n",
      "n =   6,\t x = 1.414213566773468,\t F(x) = 0.000000012446134\n",
      "n =   7,\t x = 1.414213562373095,\t F(x) = 0.000000000000000\n"
     ]
    }
   ],
   "source": [
    "# definerer funksjonen vi skal bruke\n",
    "def F(x):\n",
    "    return x**2-2 # vi bruker f(x)\n",
    "\n",
    "def dF(x):\n",
    "    return 2*x # vi bruker f'(x)\n",
    "\n",
    "a_0 = 9 # en mulig initialverdi\n",
    "\n",
    "# finner fikspunkt med gitt initialverdi\n",
    "punkter = newton(F, dF, a_0)\n",
    "\n",
    "# skriver ut punkter\n",
    "n = 0\n",
    "for punkt in punkter:\n",
    "    print(\"n = {:3d},\\t x = {:1.15f},\\t F(x) = {:1.15f}\".format(n,*punkt))\n",
    "    n = n+1"
   ]
  },
  {
   "cell_type": "markdown",
   "id": "f98fce98",
   "metadata": {},
   "source": [
    "#### Eksempel\n",
    "\n",
    "Bruk Newtons metode til å løse \n",
    "\n",
    "$$\n",
    "f(x)=x^3+x^2-3x-3=0.\n",
    "$$ \n",
    "\n",
    "Velg $a_0=2$."
   ]
  },
  {
   "cell_type": "code",
   "execution_count": 3,
   "id": "7ccd79cb",
   "metadata": {},
   "outputs": [
    {
     "name": "stdout",
     "output_type": "stream",
     "text": [
      "n =   0,\t x = 2.000000000000000,\t F(x) = 3.000000000000000\n",
      "n =   1,\t x = 1.769230769230769,\t F(x) = 0.360491579426490\n",
      "n =   2,\t x = 1.732923810396993,\t F(x) = 0.008266910438978\n",
      "n =   3,\t x = 1.732051306108974,\t F(x) = 0.000004718235672\n",
      "n =   4,\t x = 1.732050807569040,\t F(x) = 0.000000000001539\n"
     ]
    }
   ],
   "source": [
    "# definerer funksjonen vi skal bruke\n",
    "def F(x):\n",
    "    return x**3+x**2-3*x-3 # vi bruker f(x)\n",
    "\n",
    "def dF(x):\n",
    "    return 3*x**2+2*x-3 # vi bruker f'(x)\n",
    "\n",
    "a_0 = 2 # en mulig initialverdi\n",
    "\n",
    "# finner fikspunkt med gitt initialverdi\n",
    "punkter = newton(F, dF, a_0)\n",
    "\n",
    "# skriver ut punkter\n",
    "n = 0\n",
    "for punkt in punkter:\n",
    "    print(\"n = {:3d},\\t x = {:1.15f},\\t F(x) = {:1.15f}\".format(n,*punkt))\n",
    "    n = n+1"
   ]
  },
  {
   "cell_type": "markdown",
   "id": "5c64bec8",
   "metadata": {},
   "source": [
    "Vi kontrollerer ved å plotte den aktuelle funksjonen:"
   ]
  },
  {
   "cell_type": "code",
   "execution_count": 4,
   "id": "bd5211e7",
   "metadata": {},
   "outputs": [
    {
     "data": {
      "image/png": "[encoded data removed]",
      "text/plain": [
       "<Figure size 432x288 with 1 Axes>"
      ]
     },
     "metadata": {
      "needs_background": "light"
     },
     "output_type": "display_data"
    }
   ],
   "source": [
    "import numpy as np\n",
    "import matplotlib.pyplot as plt\n",
    "\n",
    "# plotter funksjonen på et intervall \n",
    "x = np.linspace(-2, 2, 101)     # antall x-verdier i intervallet [-2,2]\n",
    "plt.plot(x, F(x))               # plotter funksjonen f(x) i blått\n",
    "plt.plot(x, 0*x, 'r')           # plotter x-aksen i rødt\n",
    "plt.xlabel('x')\n",
    "plt.grid(True)\n",
    "plt.ylabel('f(x)');"
   ]
  },
  {
   "cell_type": "markdown",
   "id": "4e4cc128",
   "metadata": {},
   "source": [
    "Legg merke til at det er $2$ andre nullpunkt også, men vi finner det nullpunktet som er nærme initialverdien $a_0=2$."
   ]
  },
  {
   "cell_type": "markdown",
   "id": "5f305fd3",
   "metadata": {},
   "source": [
    "### Newtons metode er en fikspunktiterasjon\n",
    "\n",
    "Hvis vi lar \n",
    "\n",
    "$$\n",
    "F(x)=x-\\frac{f(x)}{f'(x)}\n",
    "$$\n",
    "\n",
    "ser vi at Newtons metode er en fikspunktiterasjon gitt ved \n",
    "\n",
    "$$\n",
    "a_{n+1}=F(a_n).\n",
    "$$\n",
    "\n",
    "Konvergens- og feilanalysen vi gjorde for fikspunktiterasjoner gjelder da også for Newtons metode. Vi legger også merke til at\n",
    "\n",
    "$$\n",
    "F'(x)=\\frac{f(x)f''(x)}{(f'(x))^2}.\n",
    "$$\n",
    "\n",
    "Dette betyr at i fikspunktet, $r$, som da er nullpunktet til funksjonen $f(x)$, har vi automatisk at $F'(r)=0$.\n",
    "\n",
    "Sammenlignet med fikspunktiterasjoner, som generelt sett har konvergensorden lik $1$, vil altså Newtons metode generelt sett ha konvergensorden lik $2$.\n",
    "\n",
    "---\n",
    "\n",
    "**Teorem.** Anta at $f(x)$, $f'(x)$ og $f''(x)$ alle er kontinuerlige funksjoner, og at $r$ er slik at $f(r)=0$, $f'(r)\\neq0$ og $f''(r)\\neq 0$. Da konvergerer Newtons metode mot $r$ for alle initialverdier $a_0$ som starter nærme nok $r$, og \n",
    "\n",
    "$$\n",
    "\\lim_{n\\to\\infty}\\frac{e_{n+1}}{(e_n)^2}=\\frac{1}{2}\\left|\\frac{f''(r)}{f'(r)}\\right|.\n",
    "$$\n",
    "\n",
    "\n",
    "---\n",
    "\n",
    "Beviset av den siste delen av teoremet skal vi gjøre i Innlevering 3."
   ]
  }
 ],
 "metadata": {
  "kernelspec": {
   "display_name": "Python 3",
   "language": "python",
   "name": "python3"
  },
  "language_info": {
   "codemirror_mode": {
    "name": "ipython",
    "version": 3
   },
   "file_extension": ".py",
   "mimetype": "text/x-python",
   "name": "python",
   "nbconvert_exporter": "python",
   "pygments_lexer": "ipython3",
   "version": "3.8.8"
  }
 },
 "nbformat": 4,
 "nbformat_minor": 5
}
