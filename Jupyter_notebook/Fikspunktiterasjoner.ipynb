{
 "cells": [
  {
   "cell_type": "markdown",
   "id": "e406d6d0",
   "metadata": {},
   "source": [
    "# Fikspunktiterasjoner\n",
    "\n",
    "**TMA4400 Matematikk 1: Kalkulus og lineær algebra**\n",
    "\n",
    "Dato: **15. september 2025**"
   ]
  },
  {
   "cell_type": "markdown",
   "id": "4402d04d",
   "metadata": {},
   "source": [
    "## Røtter av ikke-lineære ligninger\n",
    "\n",
    "Vi sier at $x_0$ er en rot eller et nullpunkt til $f(x)$ dersom\n",
    "\n",
    "$$\n",
    "f(x)=0.\n",
    "$$\n",
    "\n",
    "En ikke-lineær ligning kan ha en, flere, eller ingen røtter."
   ]
  },
  {
   "cell_type": "markdown",
   "id": "efb92b2c",
   "metadata": {},
   "source": [
    "### Eksempel\n",
    "\n",
    "Gitt funksjonen $f(x)=x^2-2$ for $x\\in[-2,2]$. Skisser grafen til funksjonen ved å bruke følgende kode:"
   ]
  },
  {
   "cell_type": "code",
   "execution_count": 1,
   "id": "959b38c2",
   "metadata": {},
   "outputs": [],
   "source": [
    "%matplotlib inline\n",
    "\n",
    "# fikser litt på pyplot\n",
    "import numpy as np\n",
    "import matplotlib.pyplot as plt\n",
    "newparams = {'figure.figsize': (8.0, 4.0), 'axes.grid': True,\n",
    "             'lines.markersize': 8, 'lines.linewidth': 2,\n",
    "             'font.size': 14}\n",
    "plt.rcParams.update(newparams)"
   ]
  },
  {
   "cell_type": "code",
   "execution_count": 2,
   "id": "8995ade1",
   "metadata": {},
   "outputs": [
    {
     "data": {
      "image/png": "[encoded data removed]",
      "text/plain": [
       "<Figure size 576x288 with 1 Axes>"
      ]
     },
     "metadata": {
      "needs_background": "light"
     },
     "output_type": "display_data"
    }
   ],
   "source": [
    "def f(x):                   # definerer funksjonen i eksempelet over\n",
    "    return x**2-2\n",
    "\n",
    "# plotter funksjonen på et intervall \n",
    "x = np.linspace(-2, 2, 101)     # antall x-verdier i intervallet [-2,2]\n",
    "plt.plot(x, f(x))               # plotter funksjonen f(x) i blått\n",
    "plt.plot(x, 0*x, 'r')           # plotter x-aksen i rødt\n",
    "plt.xlabel('x')\n",
    "plt.grid(True)\n",
    "plt.ylabel('f(x)');"
   ]
  },
  {
   "cell_type": "markdown",
   "id": "c133c40b",
   "metadata": {},
   "source": [
    "I følge plottet bør funksjonen $f(x)$ ha 2 røtter, og disse er $x=-\\sqrt{2}$ og $x=\\sqrt{2}$.\n",
    "\n",
    "Hvordan finner vi disse numerisk?"
   ]
  },
  {
   "cell_type": "markdown",
   "id": "75adc644",
   "metadata": {},
   "source": [
    "## Fikspunktiterasjoner\n",
    "\n",
    "Vi sier at $x_0$ er et fikspunkt til $F(x)$ dersom\n",
    "\n",
    "$$\n",
    "F(x_0)=x_0.\n",
    "$$\n"
   ]
  },
  {
   "cell_type": "markdown",
   "id": "d7ab8738",
   "metadata": {},
   "source": [
    "### Eksempel\n",
    "\n",
    "Definer \n",
    "\n",
    "$$\n",
    "F(x)=\\frac{1}{2}\\left(x+\\frac{2}{x}\\right).\n",
    "$$\n",
    "\n",
    "Vi ser at $f(x)=0$ og $F(x)=x$ har samme løsningsmengde for $x>0$ siden\n",
    "\n",
    "$$\n",
    "x=\\frac{1}{2}\\left(x+\\frac{2}{x}\\right)\\qquad\\Longrightarrow\\qquad x^2-2=0.\n",
    "$$\n",
    "\n",
    "Vi definerer nå følgen $\\{a_n\\}_{n=0}^{\\infty}\\subseteq \\mathbb{R}$ til å være gitt rekursivt som\n",
    "\n",
    "$$\n",
    "a_{n+1}=F(a_n),\\qquad\\text{med startverdien $a_0$,}\n",
    "$$\n",
    "\n",
    "og vi skal se at denne konvergerer mot $\\sqrt{2}$. Legg merke til at $F(\\sqrt{2})=\\sqrt{2}$."
   ]
  },
  {
   "cell_type": "code",
   "execution_count": 3,
   "id": "0f9d7afd",
   "metadata": {},
   "outputs": [],
   "source": [
    "import numpy as np\n",
    "\n",
    "# generisk iterativ fikspunktmetode\n",
    "def fikspunkt(F, a, toleranse = 1.0E-10, N = 500):\n",
    "    Fa = F(a)\n",
    "    n = 0\n",
    "    punkter = [(a, Fa)] \n",
    "    while abs(Fa-a) >= toleranse and n < N: # vi gjør dette mens |F(x)-x|<toleranse og n<N\n",
    "        a = F(a)   # ny startverdi\n",
    "        n = n+1    # ny n\n",
    "        Fa = F(a)  # ny F(x)\n",
    "        punkter.append((a, Fa))\n",
    "    if n >= N:\n",
    "        print(\"Fant ikke fikspunkt for gitt startverdi. Returnerer nåværende verdier.\")\n",
    "        return Fa, punkter\n",
    "    else: \n",
    "        return Fa, punkter"
   ]
  },
  {
   "cell_type": "code",
   "execution_count": 4,
   "id": "77102087",
   "metadata": {},
   "outputs": [
    {
     "name": "stdout",
     "output_type": "stream",
     "text": [
      "x = 9.000000000000000\t F(x) = 4.611111111111111\n",
      "x = 4.611111111111111\t F(x) = 2.522423025435073\n",
      "x = 2.522423025435073\t F(x) = 1.657655721288586\n",
      "x = 1.657655721288586\t F(x) = 1.432089434900886\n",
      "x = 1.432089434900886\t F(x) = 1.414325129015109\n",
      "x = 1.414325129015109\t F(x) = 1.414213566773468\n",
      "x = 1.414213566773468\t F(x) = 1.414213562373095\n",
      "x = 1.414213562373095\t F(x) = 1.414213562373095\n"
     ]
    }
   ],
   "source": [
    "# definerer funksjonen vi skal bruke\n",
    "def F(x):\n",
    "    return 0.5*(x+(2/x))\n",
    "\n",
    "# finner fikspunkt med gitt startverdi\n",
    "svar, punkter = fikspunkt(F, 9)\n",
    "\n",
    "# skriver ut punkter\n",
    "for punkt in punkter:\n",
    "    print('x = {:1.15f}\\t F(x) = {:1.15f}'.format(*punkt))"
   ]
  },
  {
   "cell_type": "markdown",
   "id": "330cc443",
   "metadata": {},
   "source": [
    "Vi kan også visualisere dette geometrisk."
   ]
  },
  {
   "cell_type": "code",
   "execution_count": 6,
   "id": "afa76ee1",
   "metadata": {},
   "outputs": [
    {
     "data": {
      "image/png": "[encoded data removed]",
      "text/plain": [
       "<Figure size 576x288 with 1 Axes>"
      ]
     },
     "metadata": {
      "needs_background": "light"
     },
     "output_type": "display_data"
    }
   ],
   "source": [
    "import numpy as np\n",
    "import matplotlib.pyplot as plt\n",
    "\n",
    "x = np.arange(0.05, 10.05, 0.01) # lager mesh for grafer på en annen måte enn tidligere\n",
    "\n",
    "# fikspunktet inntreffer når følgende grafer skjærer hverandre\n",
    "plt.plot(x, F(x), 'b') # plotter F(x) i blått \n",
    "plt.plot(x, x, 'r')    # plotter y = x i rødt\n",
    "\n",
    "# visualiser fikspunktiterasjonen i grønt\n",
    "for x, y in punkter:\n",
    "    plt.plot([x, x], [x, y], 'g') # lager vertikal linje mellom punktene (x,x) og (x,y)\n",
    "    plt.plot([x, y], [y, y], 'g') # lager horisontal linje mellom punktene (x,y) og (y,y)\n",
    "plt.show()"
   ]
  },
  {
   "cell_type": "markdown",
   "id": "586d92cf",
   "metadata": {},
   "source": [
    "Hvis $a_0>\\sqrt{2}$, kan vi vise at $a_{n}>\\sqrt{2}$ og $a_{n+1}\\leq a_{n}$ for alle $n\\geq0$. Dermed konvergerer $\\{a_n\\}_{n=0}^{\\infty}$ og $\\lim_{n\\to\\infty} a_n=\\sqrt{2}$.\n",
    "\n",
    "Hvorfor må grenseverdien være $\\sqrt{2}$?"
   ]
  }
 ],
 "metadata": {
  "kernelspec": {
   "display_name": "Python 3",
   "language": "python",
   "name": "python3"
  },
  "language_info": {
   "codemirror_mode": {
    "name": "ipython",
    "version": 3
   },
   "file_extension": ".py",
   "mimetype": "text/x-python",
   "name": "python",
   "nbconvert_exporter": "python",
   "pygments_lexer": "ipython3",
   "version": "3.8.8"
  }
 },
 "nbformat": 4,
 "nbformat_minor": 5
}
