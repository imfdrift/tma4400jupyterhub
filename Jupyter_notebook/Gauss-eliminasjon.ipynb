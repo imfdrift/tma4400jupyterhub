{
 "cells": [
  {
   "cell_type": "markdown",
   "id": "e9a3a3aa",
   "metadata": {},
   "source": [
    "# Gauss-eliminasjon\n",
    "\n",
    "**TMA4400 Matematikk 1: Kalkulus og lineær algebra**\n",
    "\n",
    "Dato: **25. august 2025**"
   ]
  },
  {
   "cell_type": "markdown",
   "id": "b5fbad55",
   "metadata": {},
   "source": [
    "## Standard Gauss-eliminasjon\n",
    "\n",
    "La $A$ være ei $m\\times n$-matrise, $\\mathbf{x}$ en vektor i $\\mathbb{R}^n$ og $\\mathbf{b}$ en vektor i $\\mathbb{R}^m$. Vi skal løse ligningssystemet \n",
    "\n",
    "$$A\\mathbf{x}=\\mathbf{b}$$ \n",
    "\n",
    "ved hjelp av Gauss-eliminasjon. \n",
    "\n",
    "Vi går ut i fra at pivot-elementene er forskjellig fra null."
   ]
  },
  {
   "cell_type": "code",
   "execution_count": 1,
   "id": "b090afef",
   "metadata": {},
   "outputs": [],
   "source": [
    "import numpy as np\n",
    "\n",
    "# Gauss-eliminasjon (antar at pivotelementene er forskjellig fra null i alle rader!)\n",
    "def GE(B):\n",
    "    A = np.copy(B) # vi lager en kopi av den gitte matrisa B, for å unngå å endre denne\n",
    "    m,n = np.shape(B) # m=rader, n=kolonner; det er mulig å oppgi den utvidede matrisa, eller tom matrise\n",
    "    for k in range(0,m-1):\n",
    "        for j in range(k+1,m):\n",
    "            l = A[j,k]/A[k,k]\n",
    "            for p in range(k,n):\n",
    "                A[j,p] = A[j,p]-l*A[k,p]\n",
    "    return A"
   ]
  },
  {
   "cell_type": "markdown",
   "id": "dfe6b9ac",
   "metadata": {},
   "source": [
    "### Eksempel\n",
    "\n",
    "La oss bruke standard Gauss-eliminasjon på følgende utvidede matrise:\n",
    "\n",
    "$$(A|\\mathbf{b}) = \\left[\\begin{array}{ccc|c} 1 & 4 & 1 & 1 \\\\ 2 & -1 & 2 & 1 \\\\ 1 & 3 & 2 & 1 \\end{array}\\right].$$"
   ]
  },
  {
   "cell_type": "code",
   "execution_count": 2,
   "id": "830672ae",
   "metadata": {},
   "outputs": [
    {
     "name": "stdout",
     "output_type": "stream",
     "text": [
      "\n",
      "Vi begynner med \n",
      "[[ 1.  4.  1.  1.]\n",
      " [ 2. -1. -2.  1.]\n",
      " [ 1.  3.  2.  1.]]\n",
      "og bruker Gauss-eliminasjon som gitt over: \n",
      "[[ 1.          4.          1.          1.        ]\n",
      " [ 0.         -9.         -4.         -1.        ]\n",
      " [ 0.          0.          1.44444444  0.11111111]]\n"
     ]
    }
   ],
   "source": [
    "A0 = np.array([[1.,4.,1.,1.],[2.,-1.,-2.,1.],[1.,3.,2.,1.]]) # vi bruker 1. og så videre for å sikre flyttalltolkning i python\n",
    "A1 = GE(A0)\n",
    "print('\\nVi begynner med \\n{0}\\nog bruker Gauss-eliminasjon som gitt over: \\n{1}'.format(np.matrix(A0),np.matrix(A1)))"
   ]
  },
  {
   "cell_type": "markdown",
   "id": "6580c723",
   "metadata": {},
   "source": [
    "### Numerisk ustabilitet\n",
    "\n",
    "La oss bruke standard Gauss-eliminasjon på følgende utvidede matrise:\n",
    "\n",
    "$$(A|\\mathbf{b}) = \\left[\\begin{array}{cc|c} 10^{-12} & 1 & 1 \\\\ 1 & 1 & 2  \\end{array}\\right].$$"
   ]
  },
  {
   "cell_type": "code",
   "execution_count": 3,
   "id": "e2aa56c7",
   "metadata": {},
   "outputs": [
    {
     "name": "stdout",
     "output_type": "stream",
     "text": [
      "\n",
      "Vi begynner med \n",
      "[[1.e-12 1.e+00 1.e+00]\n",
      " [1.e+00 1.e+00 2.e+00]]\n",
      "og bruker Gauss-eliminasjon som gitt over: \n",
      "[[ 1.e-12  1.e+00  1.e+00]\n",
      " [ 0.e+00 -1.e+12 -1.e+12]]\n"
     ]
    }
   ],
   "source": [
    "B0 = np.array([[1.e-12,1.,1.],[1.,1.,2.]])\n",
    "B1 = GE(B0)\n",
    "print('\\nVi begynner med \\n{0}\\nog bruker Gauss-eliminasjon som gitt over: \\n{1}'.format(np.matrix(B0),np.matrix(B1)))"
   ]
  },
  {
   "cell_type": "markdown",
   "id": "3f2e1317",
   "metadata": {},
   "source": [
    "Ved å regne ut for hånd får man\n",
    "\n",
    "$$(A|\\mathbf{b}) = \\left[\\begin{array}{cc|c} 10^{-12} & 1 & 1 \\\\ 0 & 1-10^{12} & 2-10^{12}  \\end{array}\\right].$$\n",
    "\n",
    "Her trenger vi altså en forbedret algoritme for å fange opp tilfellet hvor pivotelementet er lite, men likevel ulikt 0."
   ]
  },
  {
   "cell_type": "markdown",
   "id": "6f0aa80d",
   "metadata": {},
   "source": [
    "## Gauss-eliminasjon med delvis pivotering\n",
    "\n",
    "En standard måte er såkalt delvis pivotering. Gauss-eliminasjon med delvis pivotering sørger for at pivotelementet har den største absoluttverdien i den aktuelle kolonnen. I tilfellet vi så på, altså \n",
    "\n",
    "$$(A|\\mathbf{b}) = \\left[\\begin{array}{cc|c} 10^{-12} & 1 & 1 \\\\ 1 & 1 & 2  \\end{array}\\right],$$\n",
    "\n",
    "vil algoritmen begynne med å bytte om på rad 1 og 2 slik at vi ender opp med\n",
    "\n",
    "$$(A|\\mathbf{b}) = \\left[\\begin{array}{cc|c} 1 & 1 & 2 \\\\ 10^{-12} & 1 & 1  \\end{array}\\right].$$\n",
    "\n",
    "Ved å gange første rad med $-10^{-12}$ (i absoluttverdi mindre enn $1$) og legge denne raden til andre rad får vi:\n",
    "\n",
    "$$(A|\\mathbf{b}) = \\left[\\begin{array}{cc|c} 1 & 1 & 2 \\\\ 0 & 1-10^{-12} & 1-2\\cdot10^{-12}  \\end{array}\\right]\\approx\\left[\\begin{array}{cc|c} 1 & 1 & 2 \\\\ 0 & 1 & 1  \\end{array}\\right].$$"
   ]
  },
  {
   "cell_type": "code",
   "execution_count": 4,
   "id": "97c6b224",
   "metadata": {},
   "outputs": [],
   "source": [
    "# Gauss-eliminasjon med delvis pivotering\n",
    "def GEPP(B):\n",
    "    A = np.copy(B) # vi lager en kopi av den gitte matrisa B, for å unngå å endre denne\n",
    "    m,n = np.shape(A) # m=rader, n=kolonner; det er mulig å oppgi den utvidede matrisa, eller tom matrise\n",
    "    for k in range(0,m-1):\n",
    "        a = np.abs(A[k,k])\n",
    "        pk = k\n",
    "        for j in range(k+1,m):\n",
    "            if a < np.abs(A[j,k]):\n",
    "                a = np.abs(A[j,k])\n",
    "                pk = j\n",
    "        if pk != k:\n",
    "            for p in range(k,n): # vi må bytte radene i A\n",
    "                r = A[k,p]\n",
    "                A[k,p] = A[pk,p]\n",
    "                A[pk,p] = r\n",
    "        for j in range(k+1,m):\n",
    "            l = A[j,k]/A[k,k]\n",
    "            for p in range(k,n):\n",
    "                A[j,p] =A[j,p]-l*A[k,p]\n",
    "    return A\n"
   ]
  },
  {
   "cell_type": "markdown",
   "id": "9c58b369",
   "metadata": {},
   "source": [
    "### Eksempel\n",
    "\n",
    "La oss bruke Gauss-eliminasjon med delvis pivotering på følgende utvidede matrise:\n",
    "\n",
    "$$(A|\\mathbf{b}) = \\left[\\begin{array}{cc|c} 10^{-12} & 1 & 1 \\\\ 1 & 1 & 2  \\end{array}\\right].$$"
   ]
  },
  {
   "cell_type": "code",
   "execution_count": 5,
   "id": "157e614d",
   "metadata": {},
   "outputs": [
    {
     "name": "stdout",
     "output_type": "stream",
     "text": [
      "\n",
      "Vi begynner med \n",
      "[[1.e-12 1.e+00 1.e+00]\n",
      " [1.e+00 1.e+00 2.e+00]]\n",
      "og bruker Gauss-eliminasjon med delvis pivotering som gitt over: \n",
      "[[1. 1. 2.]\n",
      " [0. 1. 1.]]\n"
     ]
    }
   ],
   "source": [
    "B2 = np.array([[1.e-12,1.,1.],[1.,1.,2.]])\n",
    "B3 = GEPP(B2)\n",
    "print('\\nVi begynner med \\n{0}\\nog bruker Gauss-eliminasjon med delvis pivotering som gitt over: \\n{1}'.format(np.matrix(B2),np.matrix(B3)))"
   ]
  },
  {
   "cell_type": "markdown",
   "id": "b2888176",
   "metadata": {},
   "source": [
    "## Kan flere ting gå galt?\n",
    "\n",
    "La nå\n",
    "\n",
    "$$ (A|\\mathbf{b})=\\left[\\begin{array}{ccc|c} -1 & 1 & 1 & 6 \\\\ 1 & -1 & 1 & 2 \\\\ 1 & -1 & -1 & 0 \\end{array}\\right]$$\n"
   ]
  },
  {
   "cell_type": "code",
   "execution_count": 6,
   "id": "d661b52a",
   "metadata": {},
   "outputs": [
    {
     "name": "stdout",
     "output_type": "stream",
     "text": [
      "\n",
      "Vi begynner med \n",
      "[[-1.  1.  1.  6.]\n",
      " [ 1. -1.  1.  2.]\n",
      " [ 1. -1. -1.  0.]]\n",
      "og bruker Gauss-eliminasjon med delvis pivotering som gitt over: \n",
      "[[-1.  1.  1.  6.]\n",
      " [ 0.  0.  2.  8.]\n",
      " [ 0. nan nan nan]]\n"
     ]
    },
    {
     "name": "stderr",
     "output_type": "stream",
     "text": [
      "<ipython-input-4-44ddb6239deb>:18: RuntimeWarning: invalid value encountered in double_scalars\n",
      "  l = A[j,k]/A[k,k]\n"
     ]
    }
   ],
   "source": [
    "B4 = np.array([[-1.,1.,1.,6],[1.,-1.,1.,2.],[1.,-1.,-1.,0.]])\n",
    "B5 = GEPP(B4)\n",
    "print('\\nVi begynner med \\n{0}\\nog bruker Gauss-eliminasjon med delvis pivotering som gitt over: \\n{1}'.format(np.matrix(B4),np.matrix(B5)))"
   ]
  },
  {
   "cell_type": "markdown",
   "id": "12efb464",
   "metadata": {},
   "source": [
    "Vi deler altså på $0$ siden pivotelementet ikke er forskjellig fra $0$ etter hvert. Vi testet tross alt ikke for dette. La oss prøve Python sin innebygde løser:"
   ]
  },
  {
   "cell_type": "code",
   "execution_count": 7,
   "id": "ffac1f8f",
   "metadata": {},
   "outputs": [],
   "source": [
    "B6 = np.array([[-1.,1.,1.],[1.,-1.,1.],[1.,-1.,-1.]])\n",
    "b = np.array([6., 2., 0.])\n",
    "#np.linalg.solve(B6,b) # fjern skigard-symbolet for å kjøre denne delen"
   ]
  },
  {
   "cell_type": "markdown",
   "id": "a69cc11e",
   "metadata": {},
   "source": [
    "La oss nå teste følgende utvidede matrise:\n",
    "\n",
    "$$ (A|\\mathbf{b})=\\left[\\begin{array}{ccc|c} 1 & 2 & 1 & 6 \\\\ 1 & -1 & 2 & 2 \\\\ 0.8 & 1 & 1 & 0 \\end{array}\\right]$$\n"
   ]
  },
  {
   "cell_type": "code",
   "execution_count": 8,
   "id": "e0e854d3",
   "metadata": {},
   "outputs": [
    {
     "name": "stdout",
     "output_type": "stream",
     "text": [
      "\n",
      "Vi begynner med \n",
      "[[ 1.   2.   1.   6. ]\n",
      " [ 1.  -1.   2.   2. ]\n",
      " [ 0.8  1.   1.   0. ]]\n",
      "og bruker Gauss-eliminasjon med delvis pivotering som gitt over: \n",
      "[[ 1.00000000e+00  2.00000000e+00  1.00000000e+00  6.00000000e+00]\n",
      " [ 0.00000000e+00 -3.00000000e+00  1.00000000e+00 -4.00000000e+00]\n",
      " [ 0.00000000e+00  0.00000000e+00 -8.32667268e-17 -4.00000000e+00]]\n"
     ]
    }
   ],
   "source": [
    "B7 = np.array([[1.,2.,1.,6],[1.,-1.,2.,2.],[0.8,1.,1.,0.]])\n",
    "B8 = GEPP(B7)\n",
    "print('\\nVi begynner med \\n{0}\\nog bruker Gauss-eliminasjon med delvis pivotering som gitt over: \\n{1}'.format(np.matrix(B7),np.matrix(B8)))"
   ]
  },
  {
   "cell_type": "markdown",
   "id": "7f7bfc81",
   "metadata": {},
   "source": [
    "Utregning for hånd gir\n",
    "\n",
    "$$\n",
    "(A|\\mathbf{b})=\\left[\\begin{array}{ccc|c} 1 & 2 & 1 & 6 \\\\ 0 & -3 & 1 & -4 \\\\ 0 & 0 & 0 & -20 \\end{array}\\right].\n",
    "$$\n",
    "\n",
    "Systemet har altså ingen løsning selv om python tror det:"
   ]
  },
  {
   "cell_type": "code",
   "execution_count": 9,
   "id": "b79ef2b6",
   "metadata": {},
   "outputs": [],
   "source": [
    "B9 = np.array([[1.,2.,1.],[1.,-1.,2.],[0.8,1.,1.]])\n",
    "b = np.array([6., 2., 0.])\n",
    "#np.linalg.solve(B7,b) # fjern skigard-symbolet for å kjøre denne delen"
   ]
  }
 ],
 "metadata": {
  "kernelspec": {
   "display_name": "Python 3",
   "language": "python",
   "name": "python3"
  },
  "language_info": {
   "codemirror_mode": {
    "name": "ipython",
    "version": 3
   },
   "file_extension": ".py",
   "mimetype": "text/x-python",
   "name": "python",
   "nbconvert_exporter": "python",
   "pygments_lexer": "ipython3",
   "version": "3.8.8"
  }
 },
 "nbformat": 4,
 "nbformat_minor": 5
}
