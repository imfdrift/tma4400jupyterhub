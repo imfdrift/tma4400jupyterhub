{
 "cells": [
  {
   "cell_type": "markdown",
   "id": "3efd7f39",
   "metadata": {},
   "source": [
    "# Numerisk integrasjon\n",
    "\n",
    "**TMA4400 Matematikk 1: Kalkulus og lineær algebra**\n",
    "\n",
    "Dato: **03. november 2025**"
   ]
  },
  {
   "cell_type": "markdown",
   "id": "43a3e366",
   "metadata": {},
   "source": [
    "## Generell fremgangsmåte\n",
    "\n",
    "Vi ønsker å beregne det bestemte integralet\n",
    "\n",
    "$$\n",
    "\\int_a^bf(x)\\ dx,\n",
    "$$\n",
    "\n",
    "hvor $a<b$ begge er reelle tall. "
   ]
  },
  {
   "cell_type": "markdown",
   "id": "79f6d49e",
   "metadata": {},
   "source": [
    "En måte å gjøre dette på er å finne en funksjon $F(x)$ slik at $F'(x)=f(x)$ og\n",
    "\n",
    "$$\n",
    "\\int_a^b f(x) \\ dx = F(b)-F(a).\n",
    "$$\n",
    "\n",
    "Men det er ikke alltid like lett å finne en $F(x)$ som har et fornuftig uttrykk. Hvis for eksempel $f(x)=e^{x^2}$, er \n",
    "\n",
    "$$\n",
    "F(x)=\\sum_{k=0}^\\infty\\frac{x^{2k+1}}{k!(2k+1)}.\n",
    "$$"
   ]
  },
  {
   "cell_type": "markdown",
   "id": "de88cdb1",
   "metadata": {},
   "source": [
    "La oss heller velge en litt annen strategi som vil gjøre oss i stand til å integrere de fleste $f(x)$. Hvis vi kan finne en annen funksjon $g(x)$ slik at\n",
    "\n",
    "$$\n",
    "f(x) \\approx g(x),\n",
    "$$\n",
    "\n",
    "vil også \n",
    "\n",
    "$$\n",
    "\\int_a^b f(x) \\ dx \\approx \\int_a^b g(x) \\ dx.\n",
    "$$\n",
    "\n",
    "Hvis vi i tillegg velger en $g(x)$ som er enkel å integrere, kan vi kanskje finne en slags formel for integralet til $f(x)$ også. "
   ]
  },
  {
   "cell_type": "markdown",
   "id": "0f77b16a",
   "metadata": {},
   "source": [
    "Fra Taylors teorem vet vi at polynomer er gode kandidater for $g(x)$, og at de approksimerer $f(x)$ godt under visse forutsetninger. \n",
    "\n",
    "Definer følgende første ordens polynom:\n",
    "\n",
    "$$\n",
    "g(x)=f(a)\\cdot\\frac{b-x}{b-a}+f(b)\\cdot\\frac{x-a}{b-a},\n",
    "$$ \n",
    "\n",
    "da vil $g(a)=f(a)$ og $g(b)=f(b)$. Videre er\n",
    "\n",
    "$$\n",
    "\\int_a^bf(x) \\ dx \\approx \\int_a^b g(x) \\ dx = \\frac{b-a}{2}\\Big(f(a)+f(b)\\Big).\n",
    "$$\n",
    "\n",
    "Her krevde vi at approksimasjonen $g(x)$ skulle være lik funksjonen $f(x)$ i punktene $x=a$ og $x=b$ og lineær ellers. La oss gjøre denne ideen mer generell."
   ]
  },
  {
   "cell_type": "markdown",
   "id": "6df87a81",
   "metadata": {},
   "source": [
    "Som i Eulers metode deler vi opp intervallet $[a,b]$ i like store deler. For $n\\in \\mathbb{N}$, definerer vi altså steglengden $h$ og nodene $x_i$ ved\n",
    "\n",
    "$$\n",
    "h=\\frac{x_n-x_0}{n}\\qquad \\text{og}\\qquad x_{i+1}=x_i+h\\qquad\\text{for $i=0,1,\\dots,n-1$,}\n",
    "$$\n",
    "\n",
    "hvor $x_0=a$ og $x_n=b$.\n",
    "\n",
    "I hver enkelt node ønsker vi at $g(x)$ og $f(x)$ skal ha samme funksjonsverdi. Vi skriver derfor \n",
    "\n",
    "$$\n",
    "g(x)=\\sum_{i=0}^nf(x_i)l_i(x),\n",
    "$$\n",
    "\n",
    "hvor $0\\leq l_i(x)\\leq 1$ er et polynom av vilkårlig orden mellom nodene. Vi legger også merke til at \n",
    "\n",
    "$$\n",
    "\\int_a^b g(x) \\ dx = \\int_a^b \\sum_{i=0}^nf(x_i)l_i(x) \\ dx = \\sum_{i=0}^n\\left(\\int_a^bl_i(x) \\ dx \\right)f(x_i)= \\sum_{i=0}^n w_i f(x_i),\n",
    "$$\n",
    "\n",
    "hvor $w_i=\\int_a^bl_i(x) \\ dx$. Dette er den såkalte Newton-Cotes formelen som vi ikke skal gå mer inn på i TMA4400."
   ]
  },
  {
   "cell_type": "markdown",
   "id": "ef3c71ce",
   "metadata": {},
   "source": [
    "## Rektangelmetoden\n",
    "\n",
    "Hvis vi nå lar $l_i(x)$ være et polynom med orden lik 0, altså den konstante funksjonen\n",
    "\n",
    "$$\n",
    "l_i(x)=\\begin{cases}\n",
    "1,&\\qquad \\text{for $x\\in [x_{i},x_{i+1}]$,}\\\\\n",
    "0,&\\qquad \\text{ellers,}\n",
    "\\end{cases}\n",
    "$$\n",
    "\n",
    "når $i=0,\\ldots,n-1$ og $l_n(x)=0$ når $i=n$, får vi\n",
    "\n",
    "$$\n",
    "w_i=\\int_a^bl_i(x) \\ dx =\\begin{cases}\n",
    "x_{i+1}-x_i,&\\qquad \\text{for $i=0,\\ldots,n-1$,}\\\\\n",
    "0,&\\qquad \\text{for $i=n$.}\n",
    "\\end{cases}\n",
    "$$\n",
    "\n",
    "Dette gir at\n",
    "\n",
    "\\begin{align*}\n",
    "\\int_a^b f(x) \\ dx &\\approx \\sum_{i=0}^n w_i f(x_i) = \\sum_{i=0}^{n-1} f(x_i) (x_{i+1}-x_i)\\\\\n",
    "&= h \\sum_{i=0}^{n-1}f(x_i)=h \\Big(f(a)+f(a+h)+f(a+2h)+\\cdots+f(b-h) \\Big)\n",
    "\\end{align*}\n",
    "\n",
    "---\n",
    "\n",
    "**Bemerkning.** Dette er akkurat samme formel som opptrer i Riemann-summer bare at vi har bestemt oss for å velge venstre endepunkt i delintervallene. Vi kunne selvsagt også ha valgt høyre endepunkt uten store endringer.\n",
    "\n",
    "---"
   ]
  },
  {
   "cell_type": "code",
   "execution_count": 1,
   "id": "3680860c",
   "metadata": {},
   "outputs": [],
   "source": [
    "import numpy as np\n",
    "\n",
    "def rektangel(f, a, b, n):\n",
    "# vi finner en approksimasjon av integralet ved rektangelmetoden\n",
    "# Input:  \n",
    "#   f:    integranden\n",
    "#   a, b: integrasjonsintervallet\n",
    "#   n:    antall delintervall\n",
    "# Output: approksimasjonen av integralet\n",
    "    x_noder = np.linspace(a, b, n+1)       # jevnt fordelte noder fra a til b \n",
    "    h = (b-a)/n                            # steglengden\n",
    "    R = h*(sum(f(x_noder[0:n])))           # summerer f(x_0), f(x_1), ... , f(x_{n-1})\n",
    "    return (n, R)"
   ]
  },
  {
   "cell_type": "markdown",
   "id": "534a7c3c",
   "metadata": {},
   "source": [
    "#### Eksempel\n",
    "\n",
    "Test koden på følgende eksempel:\n",
    "\n",
    "$$\n",
    "\\int_{-1}^2(4x^3+x^2+2x-1)dx.\n",
    "$$\n",
    "\n",
    "Det eksakte svaret er 18."
   ]
  },
  {
   "cell_type": "code",
   "execution_count": 2,
   "id": "1a1465a9",
   "metadata": {},
   "outputs": [
    {
     "name": "stdout",
     "output_type": "stream",
     "text": [
      "n =  10, Approksimasjon = 11.56500000\n"
     ]
    }
   ],
   "source": [
    "def f(x):                        # integranden\n",
    "    return 4*x**3+x**2+2*x-1\n",
    "\n",
    "a, b = -1, 2                     # integrasjonsintervallet\n",
    "n = 10                           # antall delintervaller\n",
    "(n, R) = rektangel(f, a, b, n)   # numerisk løsning   \n",
    "\n",
    "print('n = {:3d}, Approksimasjon = {:.8f}'.format(n,R))"
   ]
  },
  {
   "cell_type": "markdown",
   "id": "2949a257",
   "metadata": {},
   "source": [
    "Prøv gjerne med konstanten $-1$. Hva skjer da?"
   ]
  },
  {
   "cell_type": "markdown",
   "id": "36ecf5fa",
   "metadata": {},
   "source": [
    "La oss nå illustrere hvordan dette ser ut grafisk."
   ]
  },
  {
   "cell_type": "code",
   "execution_count": 3,
   "id": "2075101f",
   "metadata": {},
   "outputs": [
    {
     "data": {
      "image/png": "[encoded data removed]",
      "text/plain": [
       "<Figure size 576x288 with 1 Axes>"
      ]
     },
     "metadata": {
      "needs_background": "light"
     },
     "output_type": "display_data"
    }
   ],
   "source": [
    "import matplotlib.pyplot as plt\n",
    "from matplotlib.patches import Rectangle\n",
    "\n",
    "x = np.linspace(a, b, n+1)\n",
    "y = f(x)\n",
    "h = (b - a)/n\n",
    "x_plot = np.linspace(a , b, 200)\n",
    "\n",
    "\n",
    "fig, ax1 = plt.subplots(figsize=(8,4))\n",
    "ax1.plot(x_plot, f(x_plot),color=\"black\",linewidth=2.0)\n",
    "xm = x[0:n+1]\n",
    "\n",
    "for i in range(0,n):\n",
    "    ax1.add_patch(Rectangle((x[i], 0), h , f(xm[i]), edgecolor=\"blue\", facecolor=\"cyan\"))\n",
    "\n",
    "plt.xlabel(\"x-akse\")\n",
    "plt.ylabel(\"y-akse\")\n",
    "plt.title(\"Rektangelmetoden\")\n",
    "plt.show()"
   ]
  },
  {
   "cell_type": "markdown",
   "id": "67c796f7",
   "metadata": {},
   "source": [
    "### Feilanalyse for rektangelmetoden\n",
    "\n",
    "Vi lar feilen være gitt som \n",
    "\n",
    "$$\n",
    "I_n = \\left|\\int_a^b f(x) \\ dx - h \\sum_{i=0}^{n-1}f(x_i)\\right|.\n",
    "$$\n",
    "\n",
    "---\n",
    "\n",
    "**Teorem.** Anta at $f(x)$ og dens førstederiverte, $f'(x)$, er kontinuerlige for $x\\in[a,b]$, og at $|f'(x)|\\leq K$ for alle $x\\in[a,b]$. Da har vi at\n",
    "\n",
    "$$\n",
    "I_n\\leq \\frac{K(b-a)}{2}h=\\frac{K(b-a)^2}{2n}\n",
    "$$\n",
    "\n",
    "---\n",
    "\n",
    "---\n",
    "\n",
    "**Bevis.** Ved hjelp av egenskapene til integralet vil\n",
    "\n",
    "$$\n",
    "\\int_a^b f(x) \\ dx = \\sum_{i=0}^{n-1}\\int_{x_i}^{x_{i+1}} f(x) \\ dx \\qquad\\text{og}\\qquad hf(x_i)=\\int_{x_i}^{x_{i+1}} f(x_i) \\ dx,\n",
    "$$\n",
    "\n",
    "som betyr at\n",
    "\n",
    "$$\n",
    "I_n\\leq \\sum_{i=0}^{n-1}\\int_{x_i}^{x_{i+1}}| f(x)-f(x_i)| \\ dx.\n",
    "$$\n",
    "\n",
    "Siden $x\\in[x_i,x_{i+1}]$, gir Taylors teorem følgende:\n",
    "\n",
    "$$\n",
    "f(x)=f(x_i+(x-x_i))=f(x_i)+(x-x_i)f'(\\xi),\\qquad\\text{for $\\xi\\in[x_i,x]$,}\n",
    "$$\n",
    "\n",
    "eller\n",
    "\n",
    "$$\n",
    "|f(x)-f(x_i)|\\leq |x-x_i||f'(\\xi)|\\leq |x-x_i|K.\n",
    "$$\n",
    "\n",
    "Dette betyr at\n",
    "\n",
    "$$\n",
    "I_n\\leq  \\sum_{i=0}^{n-1}\\int_{x_i}^{x_{i+1}}| f(x)-f(x_i)| \\ dx \\leq K\\sum_{i=0}^{n-1}\\int_{x_i}^{x_{i+1}}(x-x_i) \\ dx=K\\sum_{i=0}^{n-1}\\frac{1}{2}h^2=\\frac{1}{2}h^2nK=\\frac{K(b-a)^2}{2n}.\n",
    "$$\n",
    "\n",
    "---"
   ]
  },
  {
   "cell_type": "markdown",
   "id": "27e09c5c",
   "metadata": {},
   "source": [
    "La oss teste dette estimatet numerisk."
   ]
  },
  {
   "cell_type": "code",
   "execution_count": 4,
   "id": "d254d8f4",
   "metadata": {},
   "outputs": [
    {
     "name": "stdout",
     "output_type": "stream",
     "text": [
      "n =   1,  error = 3.600e+01\n",
      "n =   2,  error = 2.588e+01, reduction factor = 7.188e-01\n",
      "n =   4,  error = 1.491e+01, reduction factor = 5.761e-01\n",
      "n =   8,  error = 7.945e+00, reduction factor = 5.330e-01\n",
      "n =  16,  error = 4.096e+00, reduction factor = 5.155e-01\n",
      "n =  32,  error = 2.079e+00, reduction factor = 5.075e-01\n",
      "n =  64,  error = 1.047e+00, reduction factor = 5.037e-01\n"
     ]
    }
   ],
   "source": [
    "def f(x):\n",
    "    return 4*x**3+x**2+2*x-1\n",
    "\n",
    "a, b = -1, 2\n",
    "I_eksakt = 18                        # vi regner ut integralet\n",
    "\n",
    "for n in [1,2,4,8,16,32,64]:\n",
    "    (n, R) = rektangel(f, a, b, n=n) # numerisk løsning   \n",
    "    err = abs(I_eksakt-R)            # feil\n",
    "    if n == 1:\n",
    "        print('n = {:3d},  error = {:.3e}'.format(n, err))\n",
    "    else:\n",
    "        print('n = {:3d},  error = {:.3e}, reduction factor = {:.3e}'.format(n, err, err/err_prev))\n",
    "    err_prev=err"
   ]
  },
  {
   "cell_type": "markdown",
   "id": "9650ee7a",
   "metadata": {},
   "source": [
    "Vi ser at feilen er redusert med en faktor $0.5$ når antall delintervall øker med en faktor $2$. Dette stemmer ganske bra med hva vi forventer:\n",
    "\n",
    "$$\n",
    "\\frac{I_{2n}}{I_{n}}=\\frac{\\frac{K(b-a)^2}{2(2n)}}{\\frac{K(b-a)^2}{2n}}=\\frac{1}{2}.\n",
    "$$"
   ]
  },
  {
   "cell_type": "markdown",
   "id": "001e93e2",
   "metadata": {},
   "source": [
    "## Trapesmetoden\n",
    "\n",
    "Hvis vi nå lar $l_i(x)$ være polynomer med orden lik 1, altså de lineære funksjonene\n",
    "\n",
    "$$\n",
    "l_i(x)=\\begin{cases}\n",
    "\\frac{x_{i+1}-x}{x_{i+1}-x_{i}},&\\qquad \\text{for $x\\in [x_{i},x_{i+1}]$ der $i=0,\\ldots,n-1$,}\\\\\n",
    "\\frac{x-x_{i-1}}{x_{i}-x_{i-1}},&\\qquad \\text{for $x\\in [x_{i-1},x_{i}]$ der $i=1,\\ldots,n$,}\\\\\n",
    "0,&\\qquad \\text{ellers,}\n",
    "\\end{cases}\n",
    "$$\n",
    "\n",
    "får vi\n",
    "\n",
    "$$\n",
    "w_i=\\int_a^bl_i(x) \\ dx=\\begin{cases}\n",
    "\\frac{1}{2}(x_{1}-x_0),&\\qquad \\text{for $i=0$,}\\\\\n",
    "\\frac{1}{2}(x_{i+1}-x_i)+\\frac{1}{2}(x_{i}-x_{i-1}),&\\qquad \\text{for $i=1,\\ldots,n-1$,}\\\\\n",
    "\\frac{1}{2}(x_{n}-x_{n-1}),&\\qquad \\text{for $i=n$.}\n",
    "\\end{cases}\n",
    "$$\n",
    "\n",
    "Dette gir at\n",
    "\n",
    "\\begin{align*}\n",
    "\\int_a^b f(x) \\ dx &\\approx \\sum_{i=0}^n w_i f(x_i) = \\frac{1}{2}hf(x_0)+h\\sum_{i=1}^{n-1} f(x_i)+\\frac{1}{2}hf(x_n)\\\\\n",
    "&=\\frac{h}{2}\\left(f(x_0)+2\\sum_{i=1}^{n-1} f(x_i)+f(x_n)\\right).\n",
    "\\end{align*}\n"
   ]
  },
  {
   "cell_type": "code",
   "execution_count": 5,
   "id": "ebbbf133",
   "metadata": {},
   "outputs": [],
   "source": [
    "import numpy as np\n",
    "\n",
    "def trapes(f, a, b, n):\n",
    "# vi finner en approksimasjon av integralet ved trapesmetoden\n",
    "# Input:  \n",
    "#   f:    integranden\n",
    "#   a, b: integrasjonsintervallet\n",
    "#   n:    antall delintervall\n",
    "# Output: approksimasjonen av integralet\n",
    "    x_noder = np.linspace(a, b, n+1)       # jevnt fordelte noder fra a til b \n",
    "    h = (b-a)/n                            # steglengden\n",
    "    T1 = f(x_noder[0])                     # T1 = f(x_0)\n",
    "    T2 = f(x_noder[n])                     # T2 = f(x_n)\n",
    "    T3 = sum(f(x_noder[1:n]))              # T3 = f(x_1)+f(x_2)+...+f(x_{n-1})\n",
    "    T = (h/2)*(T1 + 2*T3 + T2)\n",
    "    return (n, T)"
   ]
  },
  {
   "cell_type": "markdown",
   "id": "3e2fad44",
   "metadata": {},
   "source": [
    "#### Eksempel\n",
    "\n",
    "Test koden på følgende eksempel:\n",
    "\n",
    "$$\n",
    "\\int_{-1}^2(4x^3+x^2+2x-1)dx.\n",
    "$$\n",
    "\n",
    "Det eksakte svaret er 18."
   ]
  },
  {
   "cell_type": "code",
   "execution_count": 6,
   "id": "48bd3f02",
   "metadata": {},
   "outputs": [
    {
     "name": "stdout",
     "output_type": "stream",
     "text": [
      "n =   5, Approksimasjon = 19.26000000\n"
     ]
    }
   ],
   "source": [
    "def f(x):                        # integranden\n",
    "    return 4*x**3+x**2+2*x-1    \n",
    "a, b = -1, 2                     # integrasjonsintervallet\n",
    "n = 5                            # antall delintervaller\n",
    "(n, T) = trapes(f, a, b, n)      # numerisk løsning   \n",
    "print('n = {:3d}, Approksimasjon = {:.8f}'.format(n,T))"
   ]
  },
  {
   "cell_type": "markdown",
   "id": "54d73966",
   "metadata": {},
   "source": [
    "Prøv gjerne med $2x-1$. Hva skjer da?"
   ]
  },
  {
   "cell_type": "markdown",
   "id": "62d3d307",
   "metadata": {},
   "source": [
    "La oss nå illustrere hvordan dette ser ut grafisk."
   ]
  },
  {
   "cell_type": "code",
   "execution_count": 7,
   "id": "12548a4c",
   "metadata": {},
   "outputs": [
    {
     "data": {
      "image/png": "[encoded data removed]",
      "text/plain": [
       "<Figure size 576x288 with 1 Axes>"
      ]
     },
     "metadata": {
      "needs_background": "light"
     },
     "output_type": "display_data"
    }
   ],
   "source": [
    "import matplotlib.pyplot as plt\n",
    "\n",
    "x = np.linspace(a, b, n+1)\n",
    "y = f(x)\n",
    "h = (b - a)/n\n",
    "x_plot = np.linspace(a , b, 200)\n",
    "\n",
    "fig, ax2 = plt.subplots(figsize=(8,4))\n",
    "ax2.plot(x_plot, f(x_plot),color=\"black\",linewidth=2.0)\n",
    "ax2.plot(x, y, color=\"red\",linewidth=0.5)\n",
    "ax2.fill_between(x, y, facecolor='orange')\n",
    "\n",
    "for i in range(0,n+1):\n",
    "    plt.plot([x[i],x[i]],[0,y[i]],color=\"red\",linewidth=0.5)\n",
    "\n",
    "plt.xlabel(\"x-akse\")\n",
    "plt.ylabel(\"y-akse\")\n",
    "plt.title(\"Trapesmetoden\")\n",
    "plt.show()"
   ]
  },
  {
   "cell_type": "markdown",
   "id": "f43f2b0e",
   "metadata": {},
   "source": [
    "### Feilanalyse for trapesmetoden\n",
    "\n",
    "Nå lar vi feilen være gitt som\n",
    "\n",
    "$$\n",
    "I_n = \\left|\\int_a^b f(x) \\ dx - \\frac{h}{2}\\left(f(x_0)+2\\sum_{i=1}^{n-1} f(x_i)+f(x_n)\\right)\\right|.\n",
    "$$\n",
    "\n",
    "---\n",
    "\n",
    "**Teorem.** Anta at $f(x)$ og dens første- og andrederiverte, $f'(x)$ og $f''(x)$, er kontinuerlige for $x\\in[a,b]$, og at $|f''(x)|\\leq K$ for alle $x\\in[a,b]$. Da har vi at\n",
    "\n",
    "$$\n",
    "I_n\\leq \\frac{K(b-a)}{12}h^2=\\frac{K(b-a)^3}{12n^2}.\n",
    "$$\n",
    "\n",
    "---"
   ]
  }
 ],
 "metadata": {
  "kernelspec": {
   "display_name": "Python 3",
   "language": "python",
   "name": "python3"
  },
  "language_info": {
   "codemirror_mode": {
    "name": "ipython",
    "version": 3
   },
   "file_extension": ".py",
   "mimetype": "text/x-python",
   "name": "python",
   "nbconvert_exporter": "python",
   "pygments_lexer": "ipython3",
   "version": "3.8.8"
  }
 },
 "nbformat": 4,
 "nbformat_minor": 5
}
