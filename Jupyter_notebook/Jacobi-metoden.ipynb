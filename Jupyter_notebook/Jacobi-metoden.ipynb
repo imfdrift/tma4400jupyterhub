{
 "cells": [
  {
   "cell_type": "markdown",
   "id": "9c39782d",
   "metadata": {},
   "source": [
    "# Jacobi-metoden\n",
    "\n",
    "**TMA4400 Matematikk 1: Kalkulus og lineær algebra**\n",
    "\n",
    "Dato: **22. september 2025**"
   ]
  },
  {
   "cell_type": "markdown",
   "id": "ed7ef48f",
   "metadata": {},
   "source": [
    "### Eksempel\n",
    "\n",
    "La oss illustrere metoden ved å se på følgende lineære ligningssystem:\n",
    "\n",
    "$$\n",
    "\\left[\\begin{array}{cc} 3 & 1 \\\\ 1 & 2 \\end{array}\\right]\\cdot \\left[\\begin{array}{c} x \\\\ y \\end{array}\\right]=\\left[\\begin{array}{c} 5 \\\\ 5 \\end{array}\\right].\n",
    "$$\n",
    "\n",
    "Vi ser at vi kan skrive\n",
    "\n",
    "\\begin{align*}\n",
    "x&=\\frac{5-y}{3},\\\\\n",
    "y&=\\frac{5-x}{2}.\n",
    "\\end{align*}\n",
    "\n",
    "Med f. eks. startverdien $(x_0,y_0)=(0,0)$, gir dette oss følgende iterasjon:\n",
    "\n",
    "\\begin{align*}\n",
    "\\left[\\begin{array}{c} x_0 \\\\ y_0 \\end{array}\\right]&= \\left[\\begin{array}{c} 0 \\\\ 0 \\end{array}\\right]\\\\\n",
    "\\left[\\begin{array}{c} x_1 \\\\ y_1 \\end{array}\\right]&= \\left[\\begin{array}{c} \\frac{5-y_0}{3} \\\\ \\frac{5-x_0}{2} \\end{array}\\right]=\\left[\\begin{array}{c} \\frac{5}{3} \\\\ \\frac{5}{2} \\end{array}\\right]\\\\\n",
    "\\left[\\begin{array}{c} x_2 \\\\ y_2 \\end{array}\\right]&= \\left[\\begin{array}{c} \\frac{5-y_1}{3} \\\\ \\frac{5-x_1}{2} \\end{array}\\right]=\\left[\\begin{array}{c} \\frac{5}{6} \\\\ \\frac{5}{3} \\end{array}\\right]\\\\\n",
    "&\\vdots\n",
    "\\end{align*}\n",
    "\n",
    "Løsningen er $(x,y)=(1,2)$."
   ]
  },
  {
   "cell_type": "markdown",
   "id": "a7ba938a",
   "metadata": {},
   "source": [
    "## Jacobi-metoden\n",
    "\n",
    "La $A$ være ei $n\\times n$-matrise og $\\mathbf{x},\\mathbf{b}\\in \\mathbb{R}^n$ være vektorer. Vi skal nå formalisere algoritma vi så i eksempelet over. Vi skriver videre\n",
    "\n",
    "$$\n",
    "A=L+D+U,\n",
    "$$\n",
    "\n",
    "hvor $L$ er ei nedre triangulær matrise, $D$ er ei diagonalmatrise og $U$ ei øvre triangulær matrise. Legg merke til at notasjonen ikke er den samme som i $LU$-faktoriseringa, da var nemlig $A=LU$.\n",
    "\n",
    "Vi skal nå vise at det lineære ligningssystemet $A\\mathbf{x}=\\mathbf{b}$ kan skrives på formen til en fikspunktiterasjon:\n",
    "\n",
    "\\begin{align*}\n",
    "A\\mathbf{x}=\\mathbf{b}\\qquad&\\Longleftrightarrow\\qquad (D+L+U)\\mathbf{x}=\\mathbf{b},\\\\\n",
    "D\\mathbf{x}=\\mathbf{b}-(L+U)\\mathbf{x}\\qquad&\\Longleftrightarrow\\qquad \\mathbf{x}=D^{-1}(\\mathbf{b}-(L+U)\\mathbf{x}).\n",
    "\\end{align*}\n",
    "\n",
    "Altså har vi at $\\mathbf{x}=\\mathbf{F}(\\mathbf{x})$ der $\\mathbf{F}(\\mathbf{x})=D^{-1}(\\mathbf{b}-(L+U)\\mathbf{x})$. Legg merke til at $\\mathbf{F}$ er en vektorfunksjon. Disse skal vi ikke analysere videre i dette emnet. \n",
    "\n",
    "Jakobi-metoden kan nå beskrives som følgen $\\{\\mathbf{a}_k\\}_{k=0}^{\\infty}\\subseteq \\mathbb{R}^n$ gitt rekursivt som\n",
    "\n",
    "$$\n",
    "\\mathbf{a}_{k+1}=D^{-1}(\\mathbf{b}-(L+U)\\mathbf{a}_k),\\qquad\\text{med startverdien $\\mathbf{a}_0$.}\n",
    "$$"
   ]
  },
  {
   "cell_type": "markdown",
   "id": "4599a8fb",
   "metadata": {},
   "source": [
    "### Eksempel\n",
    "\n",
    "Vi kan skrive om \n",
    "\n",
    "$$\n",
    "\\left[\\begin{array}{cc} 3 & 1 \\\\ 1 & 2 \\end{array}\\right]\\cdot \\left[\\begin{array}{c} x \\\\ y \\end{array}\\right]=\\left[\\begin{array}{c} 5 \\\\ 5 \\end{array}\\right],\n",
    "$$\n",
    "\n",
    "i eksempelet over, til en fikspunktiterasjon med $\\mathbf{a}_k=(x_k,y_k)$:\n",
    "\n",
    "$$\n",
    "\\left[\\begin{array}{c} x_{k+1} \\\\ y_{k+1} \\end{array}\\right]=\\mathbf{a}_{k+1}=D^{-1}(\\mathbf{b}-(L+U)\\mathbf{a}_k)=\\left[\\begin{array}{cc} 1/3 & 0 \\\\ 0 & 1/2 \\end{array}\\right]\\left(\\left[\\begin{array}{c} 5 \\\\ 5 \\end{array}\\right]-\\left(\\left[\\begin{array}{cc} 0 & 0 \\\\ 1 & 0 \\end{array}\\right]+\\left[\\begin{array}{cc} 0 & 1 \\\\ 0 & 0 \\end{array}\\right]\\right)\\cdot\\left[\\begin{array}{c} x_k \\\\ y_k \\end{array}\\right]\\right)=\\left[\\begin{array}{c} \\frac{5-y_k}{3} \\\\ \\frac{5-x_k}{2} \\end{array}\\right],\n",
    "$$\n",
    "\n",
    "med startverdien $\\mathbf{a}_0=(0,0)$."
   ]
  },
  {
   "cell_type": "markdown",
   "id": "e0db14f4",
   "metadata": {},
   "source": [
    "Vi implementerer nå metoden i python."
   ]
  },
  {
   "cell_type": "code",
   "execution_count": 1,
   "id": "8f7e589c",
   "metadata": {},
   "outputs": [],
   "source": [
    "import numpy as np\n",
    "\n",
    "# generisk iterativ fikspunktmetode\n",
    "def jacobi(A, b, a, toleranse = 1.0E-10, K = 500):\n",
    "    n = a.size               # antall elementer i a_0\n",
    "    D = np.diag(A)*np.eye(n) # lager diagonalmatrisa\n",
    "    Dinv = np.linalg.inv(D)  # lager inversen til diagonalmatrisa, dette er ikke dyrt siden den er diagonal\n",
    "    L = np.tril(A,-1)        # lager L-matrisa\n",
    "    U = np.triu(A,1)         # lager U-matrisa\n",
    "    k = 0\n",
    "    \n",
    "    r = b-A@a # her bruker vi en annen notasjon for matrisemultiplikasjon når vi regner ut r\n",
    "    feil = np.linalg.norm(r,ord=np.inf) # vi måler forskjellen mellom Ax og b i sup-normen\n",
    "    \n",
    "    while feil >= toleranse and k < K: # vi gjør dette mens ||Ax-b||<toleranse og k<K\n",
    "        a = Dinv@(b-(L+U)@a) # ny startverdi\n",
    "        k = k+1    # ny k\n",
    "        r = b-A@a  # ny r\n",
    "        feil = np.linalg.norm(r,ord=np.inf) # ny err\n",
    "    if k >= K:\n",
    "        print(\"Fant ikke fikspunkt for gitt startverdi. Returnerer nåværende verdier.\")\n",
    "        return a, feil, k\n",
    "    else: \n",
    "        return a, feil, k"
   ]
  },
  {
   "cell_type": "code",
   "execution_count": 2,
   "id": "e683c15a",
   "metadata": {},
   "outputs": [
    {
     "name": "stdout",
     "output_type": "stream",
     "text": [
      "Løsning: [[1.]\n",
      " [2.]]\n",
      "Feil: 6.38049613144176e-11\n",
      "Iterasjoner: 28\n"
     ]
    }
   ],
   "source": [
    "# definerer matrisa, høyresida og startvektoren vi skal bruke\n",
    "A0 = np.array([[3.,1.],[1.,2.]])\n",
    "b0 = np.array([[5.],[5.]]) # b som kolonnevektor \n",
    "a0 = np.array([[0.],[0.]]) # a0 som kolonnevektor\n",
    "\n",
    "# finner fikspunkt med gitt startverdi\n",
    "a, feil, k = jacobi(A0, b0, a0)\n",
    "\n",
    "print(f\"Løsning: {a}\")\n",
    "print(f\"Feil: {feil}\")\n",
    "print(f\"Iterasjoner: {k}\")"
   ]
  },
  {
   "cell_type": "markdown",
   "id": "650c3707",
   "metadata": {},
   "source": [
    "### Eksempel\n",
    "\n",
    "Vi skal nå se på det lineære ligningssystemet\n",
    "\n",
    "$$\n",
    "\\left[\\begin{array}{cccc} 1 & 2 & 2 & 3 \\\\ -1 & 4 & 2 & 7 \\\\ 3 & 1 & 6 & 0 \\\\ 1 & 0 & 3 & 4 \\end{array}\\right]\\cdot \\left[\\begin{array}{c} x_1 \\\\ x_2 \\\\ x_3 \\\\ x_4 \\end{array}\\right]=\\left[\\begin{array}{c} 0 \\\\ 1 \\\\ -1 \\\\ 2 \\end{array}\\right].\n",
    "$$\n",
    "\n",
    "Dette systemet har løsningen $(x_1,x_2,x_3,x_4)=(-0.1979, -0.7187, 0.0521, 0.5104)$, men Jacobi-metoden finner den ikke:"
   ]
  },
  {
   "cell_type": "code",
   "execution_count": 3,
   "id": "57193f03",
   "metadata": {},
   "outputs": [
    {
     "name": "stdout",
     "output_type": "stream",
     "text": [
      "Fant ikke fikspunkt for gitt startverdi. Returnerer nåværende verdier.\n",
      "Løsning: [[-7.23872269e+125]\n",
      " [-1.45973794e+125]\n",
      " [-2.15594313e+125]\n",
      " [-1.91258198e+125]]\n",
      "Feil: 3.6111564766014174e+126\n",
      "Iterasjoner: 500\n"
     ]
    }
   ],
   "source": [
    "# definerer matrisa, høyresida og startvektoren vi skal bruke\n",
    "A1 = np.array([[1.,2.,2.,3.],[-1.,4.,2.,7.],[3.,1.,6.,0],[1.,0.,3.,4.]])\n",
    "b1 = np.array([[0.],[1.],[-1.],[2.]]) # b som kolonnevektor \n",
    "a1 = np.array([[0.],[0.],[0.],[0.]]) # a0 som kolonnevektor\n",
    "\n",
    "# finner fikspunkt med gitt startverdi\n",
    "a, feil, k = jacobi(A1, b1, a1)\n",
    "\n",
    "print(f\"Løsning: {a}\")\n",
    "print(f\"Feil: {feil}\")\n",
    "print(f\"Iterasjoner: {k}\")"
   ]
  },
  {
   "cell_type": "markdown",
   "id": "e0c1f522",
   "metadata": {},
   "source": [
    "## Tilstrekkelig betingelse for konvergens\n",
    "\n",
    "Vi sier at ei $n\\times n$-matrise $A$ med elementer $\\{a_{ij}\\}_{i,j}$ er strengt diagonaldominant dersom\n",
    "\n",
    "$$\n",
    "|a_{ii}|>\\sum_{j\\neq i}|a_{ij}|,\\qquad\\text{for alle $i=1,\\ldots,n$.}\n",
    "$$\n",
    "\n",
    "---\n",
    "\n",
    "**Teorem.**  La $A$ være ei strengt diagonaldominant $n\\times n$-matrise. Da konvergerer Jacobi-metoden for ligningssystemet $A\\mathbf{x}=\\mathbf{b}$ mot en entydig løsning $\\mathbf{x}\\in\\mathbb{R}^n$ av systemet for alle gitte høyresider $\\mathbf{b}\\in\\mathbb{R}^n$ og alle startverdier $\\mathbf{a}_0\\in\\mathbb{R}^n$.\n",
    "\n",
    "---"
   ]
  },
  {
   "cell_type": "markdown",
   "id": "ab3f83a9",
   "metadata": {},
   "source": [
    "### Eksempel\n",
    "\n",
    "Vi skal nå se på det lineære ligningssystemet\n",
    "\n",
    "$$\n",
    "\\left[\\begin{array}{ccc} 10 & -1 & 2 \\\\ -1 & 11 & -1 \\\\ 2 & -1 & 10  \\end{array}\\right]\\cdot \\left[\\begin{array}{c} x_1 \\\\ x_2 \\\\ x_3 \\end{array}\\right]=\\left[\\begin{array}{c} 6 \\\\ 22 \\\\ -10 \\end{array}\\right].\n",
    "$$\n",
    "\n",
    "La oss prøve å løse dette med Jacobi-metoden:"
   ]
  },
  {
   "cell_type": "code",
   "execution_count": 4,
   "id": "96122516",
   "metadata": {},
   "outputs": [
    {
     "name": "stdout",
     "output_type": "stream",
     "text": [
      "Løsning: [[ 1.]\n",
      " [ 2.]\n",
      " [-1.]]\n",
      "Feil: 2.7419844172982266e-11\n",
      "Iterasjoner: 20\n"
     ]
    }
   ],
   "source": [
    "# definerer matrisa, høyresida og startvektoren vi skal bruke\n",
    "A2 = np.array([[10.,-1.,2.],[-1.,11.,-1.],[2.,-1.,10.]])\n",
    "b2 = np.array([[6.],[22.],[-10.]]) # b som kolonnevektor \n",
    "a2 = np.array([[0.],[0.],[0.]]) # a0 som kolonnevektor\n",
    "\n",
    "# finner fikspunkt med gitt startverdi\n",
    "a, feil, k = jacobi(A2, b2, a2)\n",
    "\n",
    "print(f\"Løsning: {a}\")\n",
    "print(f\"Feil: {feil}\")\n",
    "print(f\"Iterasjoner: {k}\")"
   ]
  },
  {
   "cell_type": "markdown",
   "id": "ae4f585f",
   "metadata": {},
   "source": [
    "### Eksempel\n",
    "\n",
    "Vi skal nå gå tilbake til det første lineære ligningssystemet vi så på\n",
    "\n",
    "$$\n",
    "\\left[\\begin{array}{cc} 3 & 1 \\\\ 1 & 2 \\end{array}\\right]\\cdot \\left[\\begin{array}{c} x \\\\ y \\end{array}\\right]=\\left[\\begin{array}{c} 5 \\\\ 5 \\end{array}\\right].\n",
    "$$\n",
    "\n",
    "Dette var strengt diagonaldominant. Hvis vi bytter om på første og andre rad, får vi\n",
    "\n",
    "$$\n",
    "\\left[\\begin{array}{cc} 1 & 2 \\\\ 3 & 1 \\end{array}\\right]\\cdot \\left[\\begin{array}{c} x \\\\ y \\end{array}\\right]=\\left[\\begin{array}{c} 5 \\\\ 5 \\end{array}\\right].\n",
    "$$\n",
    "\n",
    "Dette systemet er imidlertid ikke strengt diagonaldominant."
   ]
  },
  {
   "cell_type": "code",
   "execution_count": 5,
   "id": "5477065d",
   "metadata": {},
   "outputs": [
    {
     "name": "stdout",
     "output_type": "stream",
     "text": [
      "Fant ikke fikspunkt for gitt startverdi. Returnerer nåværende verdier.\n",
      "Løsning: [[-3.44994837e+194]\n",
      " [-6.89989674e+194]]\n",
      "Feil: 1.7249741857848466e+195\n",
      "Iterasjoner: 500\n"
     ]
    }
   ],
   "source": [
    "# definerer matrisa, høyresida og startvektoren vi skal bruke\n",
    "A3 = np.array([[1.,2.],[3.,1]])\n",
    "b3 = np.array([[5.],[5.]]) # b som kolonnevektor \n",
    "a3 = np.array([[0.],[0.]]) # a0 som kolonnevektor\n",
    "\n",
    "# finner fikspunkt med gitt startverdi\n",
    "a, feil, k = jacobi(A3, b3, a3)\n",
    "\n",
    "print(f\"Løsning: {a}\")\n",
    "print(f\"Feil: {feil}\")\n",
    "print(f\"Iterasjoner: {k}\")"
   ]
  }
 ],
 "metadata": {
  "kernelspec": {
   "display_name": "Python 3",
   "language": "python",
   "name": "python3"
  },
  "language_info": {
   "codemirror_mode": {
    "name": "ipython",
    "version": 3
   },
   "file_extension": ".py",
   "mimetype": "text/x-python",
   "name": "python",
   "nbconvert_exporter": "python",
   "pygments_lexer": "ipython3",
   "version": "3.8.8"
  }
 },
 "nbformat": 4,
 "nbformat_minor": 5
}
