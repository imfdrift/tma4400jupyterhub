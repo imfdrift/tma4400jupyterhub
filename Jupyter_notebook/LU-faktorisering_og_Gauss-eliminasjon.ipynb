{
 "cells": [
  {
   "cell_type": "markdown",
   "id": "1b510451",
   "metadata": {},
   "source": [
    "# LU-faktorisering og Gauss-eliminasjon\n",
    "\n",
    "**TMA4400 Matematikk 1: Kalkulus og lineær algebra**\n",
    "\n",
    "Dato: **01. september 2025**"
   ]
  },
  {
   "cell_type": "markdown",
   "id": "142a773b",
   "metadata": {},
   "source": [
    "### Eksempel\n",
    "\n",
    "Vi kan bruke standard Gauss-eliminasjon på følgende utvidede matrise\n",
    "\n",
    "$$(A|\\mathbf{b}) = \\left[\\begin{array}{ccc|c} 1 & 1 & 1 & 1 \\\\ 4 & 3 & -1 & 1 \\\\ 3 & 5 & 3 & 1 \\end{array}\\right]$$\n",
    "\n",
    "for å få\n",
    "\n",
    "$$(A|\\mathbf{b}) = \\left[\\begin{array}{ccc|c} 1 & 1 & 1 & 1 \\\\ 0 & -1 & -5 & -3 \\\\ 0 & 0 & -10 & -8 \\end{array}\\right].$$\n",
    "\n",
    "Om vi gjør det samme på\n",
    "\n",
    "$$(A|\\mathbf{b}) = \\left[\\begin{array}{ccc|c} 1 & 1 & 1 & 1 \\\\ 4 & 3 & -1 & 2 \\\\ 3 & 5 & 3 & 3 \\end{array}\\right]$$\n",
    "\n",
    "får vi\n",
    "\n",
    "$$(A|\\mathbf{b}) = \\left[\\begin{array}{ccc|c} 1 & 1 & 1 & 1 \\\\ 0 & -1 & -5 & -2 \\\\ 0 & 0 & -10 & -4 \\end{array}\\right].$$\n",
    "\n",
    "Matrisa $A$ får altså den samme radreduserte formen, men vi må gjøre Gauss-elminiasjonen på nytt for hver av de to utvidede matrisene. \n",
    "\n",
    "**Finnes det en måte å lagre Gauss-eliminasjonen av $A$ slik at vi ikke trenger å gjøre Gauss-elminiasjonen på nytt for hele systemet?** \n",
    "\n",
    "Først kan vi legge merke til at den radreduserte matrisa som svarer til $A$,\n",
    "\n",
    "$$\\left[\\begin{array}{ccc} 1 & 1 & 1 \\\\ 0 & -1 & -5 \\\\ 0 & 0 & -10 \\end{array}\\right],$$\n",
    "\n",
    "er ei øvre triangulær matrise (elementene under diagonalen er $0$). Dette gjør at ligningssystemet til den radreduserte $(A|\\mathbf{b})$ er veldig enkelt å løse siden vi raskt leser ut at\n",
    "\n",
    "\\begin{align*}\n",
    "x_3&=\\frac{-4}{-10}=\\frac{2}{5},\\\\\n",
    "x_2&=2-5\\cdot x_3=0,\\\\\n",
    "x_1&=1-x_2-x_3=1-0-\\frac{2}{5}=\\frac{3}{5}.\n",
    "\\end{align*}\n",
    "\n",
    "På samme måte er ligningssystemer i form av nedre triangulære matriser (elementene over diagonalen er $0$) også lette å løse."
   ]
  },
  {
   "cell_type": "markdown",
   "id": "d64dbc9c",
   "metadata": {},
   "source": [
    "## LU-faktorisering\n",
    "\n",
    "La $A$ være ei generell kvadratisk $n\\times n$-matrise, $\\mathbf{x}$ en vektor i $\\mathbb{R}^n$ og $\\mathbf{b}$ en vektor i $\\mathbb{R}^n$. Vi skal nå løse følgende problem:\n",
    "\n",
    "$$\n",
    "\\text{Finn $\\mathbf{x}$ slik at $A\\mathbf{x}=\\mathbf{b}$.}\n",
    "$$\n",
    "\n",
    "Anta at vi kan skrive $A=LU$, der $n\\times n$-matrisa $L$ er nedre triangulær og $n\\times n$-matrisa $U$ er øvre triangulær. Da kan vi omformulere problemet på følgende måte:\n",
    "\n",
    "\\begin{align*}\n",
    "\\text{Steg $1.$}&\\quad \\text{Finn $\\mathbf{y}$ slik at $L\\mathbf{y}=\\mathbf{b}$.}\\\\\n",
    "\\text{Steg $2.$}&\\quad \\text{Finn $\\mathbf{x}$ slik at $U\\mathbf{x}=\\mathbf{y}$.}\\\\\n",
    "\\end{align*}\n",
    "\n",
    "Vi har altså byttet ut det å radredusere den utvidede matrisa $(A|\\mathbf{b})$ med å løse to enkle triangulære ligningssystem $L\\mathbf{y}=\\mathbf{b}$ og $U\\mathbf{x}=\\mathbf{y}$. Fordelen er at vi nå ikke trenger å radredusere $(A|\\mathbf{b})$ hver gang vi får gitt en ny $\\mathbf{b}$.\n",
    "\n",
    "Men hvordan finner vi $L$ og $U$? For å finne $U$ velger vi rett og slett den radreduserte matrisa til $A$."
   ]
  },
  {
   "cell_type": "code",
   "execution_count": 1,
   "id": "11dc0859",
   "metadata": {},
   "outputs": [],
   "source": [
    "import numpy as np\n",
    "\n",
    "# Gauss-eliminasjon (antar at pivotelementene er forskjellig fra null i alle rader!)\n",
    "def GE(B):\n",
    "    A = np.copy(B) # vi lager en kopi av den gitte matrisa B, for å unngå å endre denne\n",
    "    n,n = np.shape(B) # n=rader, n=kolonner; kvadratisk matrise\n",
    "    for k in range(0,n-1):\n",
    "        for j in range(k+1,n):\n",
    "            l = A[j,k]/A[k,k]\n",
    "            for p in range(k,n):\n",
    "                A[j,p] = A[j,p]-l*A[k,p]\n",
    "    U = A\n",
    "    return U"
   ]
  },
  {
   "cell_type": "code",
   "execution_count": 2,
   "id": "2a6cc396",
   "metadata": {},
   "outputs": [
    {
     "name": "stdout",
     "output_type": "stream",
     "text": [
      "\n",
      "Vi begynner med \n",
      "[[ 1.  1.  1.]\n",
      " [ 4.  3. -1.]\n",
      " [ 3.  5.  3.]]\n",
      "og bruker Gauss-eliminasjon som gitt over: \n",
      "[[  1.   1.   1.]\n",
      " [  0.  -1.  -5.]\n",
      " [  0.   0. -10.]]\n"
     ]
    }
   ],
   "source": [
    "A0 = np.array([[1.,1.,1.],[4.,3.,-1.],[3.,5.,3.]])\n",
    "U0 = GE(A0)\n",
    "print('\\nVi begynner med \\n{0}\\nog bruker Gauss-eliminasjon som gitt over: \\n{1}'.format(np.matrix(A0),np.matrix(U0)))"
   ]
  },
  {
   "cell_type": "markdown",
   "id": "002e9fc7",
   "metadata": {},
   "source": [
    "For å få en entydig bestemt måte å skrive $A=LU$ velger vi at $L$ skal ha en diagonal med bare $1$-ere. Det gjenstår altså å bestemme elementene som befinner seg under diagonalen.\n",
    "\n",
    "Hvis vi tar utgangspunkt i eksempelet over, skal vi altså finne\n",
    "\n",
    "$$L=\\left[\\begin{array}{ccc} 1 & 0 & 0 \\\\ l_{21} & 1 & 0 \\\\ l_{31} & l_{32} & 1 \\end{array}\\right].$$\n",
    "\n",
    "Legg merke til at $L$ er slik at $A=LU$, og $U$ er den radreduserte matrisa. Da må $L$ sine gjenværende elementer ha en verdi som kommer fra radreduseringen. Vi modifiserer koden på følgende måte:"
   ]
  },
  {
   "cell_type": "code",
   "execution_count": 3,
   "id": "fab35be4",
   "metadata": {},
   "outputs": [],
   "source": [
    "import numpy as np\n",
    "\n",
    "# Gauss-eliminasjon (antar at pivotelementene er forskjellig fra null i alle rader!)\n",
    "def GE(B):\n",
    "    A = np.copy(B)  # vi lager en kopi av den gitte matrisa B, for å unngå å endre denne\n",
    "    n, n = np.shape(B) # n=rader, n=kolonner; kvadratisk matrise\n",
    "    L = np.eye(n)   # L begynner som identitetsmatrisa, og så fyller vi inn elementene under diagonalen\n",
    "    for k in range(n-1):\n",
    "        for j in range(k+1,n):\n",
    "            L[j,k] = A[j,k]/A[k,k]  # vi lagrer multipliseringen i L\n",
    "            for p in range(k,n):\n",
    "                A[j,p] = A[j,p]-L[j,k]*A[k,p]\n",
    "    U = A\n",
    "    return L, U\n"
   ]
  },
  {
   "cell_type": "code",
   "execution_count": 4,
   "id": "9572df8c",
   "metadata": {},
   "outputs": [
    {
     "name": "stdout",
     "output_type": "stream",
     "text": [
      "\n",
      "Vi begynner med \n",
      "[[ 1.  1.  1.]\n",
      " [ 4.  3. -1.]\n",
      " [ 3.  5.  3.]]\n",
      "og ender opp med følgende matriser: \n",
      "[[ 1.  0.  0.]\n",
      " [ 4.  1.  0.]\n",
      " [ 3. -2.  1.]]\n",
      "[[  1.   1.   1.]\n",
      " [  0.  -1.  -5.]\n",
      " [  0.   0. -10.]]\n"
     ]
    }
   ],
   "source": [
    "A1 = np.array([[1.,1.,1.],[4.,3.,-1.],[3.,5.,3.]])\n",
    "L1, U1 = GE(A1)\n",
    "print('\\nVi begynner med \\n{0}\\nog ender opp med følgende matriser: \\n{1}\\n{2}'.format(np.matrix(A1),np.matrix(L1),np.matrix(U1)))"
   ]
  },
  {
   "cell_type": "markdown",
   "id": "6c22575e",
   "metadata": {},
   "source": [
    "Vi har altså at \n",
    "\n",
    "$$L=\\left[\\begin{array}{ccc} 1 & 0 & 0 \\\\ 4 & 1 & 0 \\\\ 3 & -2 & 1 \\end{array}\\right].$$\n",
    "\n",
    "La oss teste dette:"
   ]
  },
  {
   "cell_type": "code",
   "execution_count": 5,
   "id": "2375d474",
   "metadata": {},
   "outputs": [
    {
     "name": "stdout",
     "output_type": "stream",
     "text": [
      "[[ 1.  1.  1.]\n",
      " [ 4.  3. -1.]\n",
      " [ 3.  5.  3.]]\n"
     ]
    }
   ],
   "source": [
    "L2 = np.array([[1.,0.,0.],[4.,1.,0.],[3.,-2.,1.]])\n",
    "U2 = np.array([[1.,1.,1.], [0.,-1.,-5.],[0.,0.,-10.]])\n",
    "A2 = np.dot(L2,U2) # notasjonen for matrisemultiplikasjon i python\n",
    "print(A2)"
   ]
  },
  {
   "cell_type": "markdown",
   "id": "623a41d1",
   "metadata": {},
   "source": [
    "### Numerisk ustabilitet\n",
    "\n",
    "La oss gjøre $LU$-faktorisering på følgende matrise:\n",
    "\n",
    "$$A = \\left[\\begin{array}{ccc} 10^{-12} & 4 & 1 \\\\ 2 & -1 & -2 \\\\ 1 & 3 & 2 \\end{array}\\right].$$"
   ]
  },
  {
   "cell_type": "code",
   "execution_count": 6,
   "id": "09d082d2",
   "metadata": {},
   "outputs": [
    {
     "name": "stdout",
     "output_type": "stream",
     "text": [
      "\n",
      "Vi begynner med \n",
      "[[ 1.e-12  4.e+00  1.e+00]\n",
      " [ 2.e+00 -1.e+00 -2.e+00]\n",
      " [ 1.e+00  3.e+00  2.e+00]]\n",
      "og ender opp med følgende matriser: \n",
      "[[1.e+00 0.e+00 0.e+00]\n",
      " [2.e+12 1.e+00 0.e+00]\n",
      " [1.e+12 5.e-01 1.e+00]]\n",
      "[[ 1.000e-12  4.000e+00  1.000e+00]\n",
      " [ 0.000e+00 -8.000e+12 -2.000e+12]\n",
      " [ 0.000e+00  0.000e+00  2.125e+00]]\n"
     ]
    }
   ],
   "source": [
    "A3 = np.array([[1.e-12,4.,1.],[2.,-1.,-2.],[1.,3.,2.]])\n",
    "L3, U3 = GE(A3)\n",
    "print('\\nVi begynner med \\n{0}\\nog ender opp med følgende matriser: \\n{1}\\n{2}'.format(np.matrix(A3),np.matrix(L3),np.matrix(U3)))"
   ]
  },
  {
   "cell_type": "markdown",
   "id": "085c3706",
   "metadata": {},
   "source": [
    "Vi tester så om vi får riktig produkt:"
   ]
  },
  {
   "cell_type": "code",
   "execution_count": 7,
   "id": "a05dade3",
   "metadata": {},
   "outputs": [
    {
     "name": "stdout",
     "output_type": "stream",
     "text": [
      "[[1.000e-12 4.000e+00 1.000e+00]\n",
      " [2.000e+00 0.000e+00 0.000e+00]\n",
      " [1.000e+00 0.000e+00 2.125e+00]]\n"
     ]
    }
   ],
   "source": [
    "L4 = np.array([[1.,0.,0.],[2.e+12,1.,0.],[1.e+12,0.5,1.]])\n",
    "U4 = np.array([[1.e-12,4.,1.], [0.,-8.e+12,-2.e+12],[0.,0.,2.125]])\n",
    "A4 = np.dot(L4,U4) # notasjonen for matrisemultiplikasjon i python\n",
    "print(A4)"
   ]
  },
  {
   "cell_type": "markdown",
   "id": "3fddf5df",
   "metadata": {},
   "source": [
    "Vi ser at matrisa vi ender opp med,\n",
    "\n",
    "$$A = \\left[\\begin{array}{ccc} 10^{-12} & 4 & 1 \\\\ 2 & 0 & 0 \\\\ 1 & 0 & 17/8 \\end{array}\\right],$$\n",
    "\n",
    "ikke er den samme som vi begynte med. Vi trenger altså en forbedret algoritme."
   ]
  },
  {
   "cell_type": "markdown",
   "id": "16c2ff1a",
   "metadata": {},
   "source": [
    "## LU-faktorisering med delvis pivotering\n",
    "\n",
    "Vi tar utgangspunkt i det vi gjorde med Gauss-eliminasjon, nemlig delvis pivotering. Vi gjenbruker koden og gjør de nødvendige endringene."
   ]
  },
  {
   "cell_type": "code",
   "execution_count": 8,
   "id": "2aa23fb0",
   "metadata": {},
   "outputs": [],
   "source": [
    "# Gauss-eliminasjon med delvis pivotering\n",
    "def GEPP(B):\n",
    "    A = np.copy(B).astype(float) # vi lager en kopi av den gitte matrisa B, for å unngå å endre denne. i tillegg konverterer vi til desimaltall\n",
    "#   A = np.copy(B) # prøv gjerne uten for å se hva som skjer \n",
    "    n,n = np.shape(A) # n=rader, n=kolonner; kvadratisk matrise\n",
    "    L = np.eye(n)   # L begynner som identitetsmatrisa, og så fyller vi inn elementene under diagonalen\n",
    "    for k in range(0,n-1):\n",
    "        a = np.abs(A[k,k])\n",
    "        pk = k\n",
    "        for j in range(k+1,n):\n",
    "            if a < np.abs(A[j,k]):\n",
    "                a = np.abs(A[j,k])\n",
    "                pk = j\n",
    "        if pk != k:\n",
    "            for p in range(k,n): # vi må bytte radene i A\n",
    "                r = A[k,p] \n",
    "                A[k,p] = A[pk,p]\n",
    "                A[pk,p] = r\n",
    "            for p in range(0,k): # vi må bytte de aktuelle radelementene i L\n",
    "                r = L[k,p] \n",
    "                L[k,p] = L[pk,p]\n",
    "                L[pk,p] = r\n",
    "        for j in range(k+1,n):\n",
    "            L[j,k] = A[j,k]/A[k,k]\n",
    "            for p in range(k,n):\n",
    "                A[j,p] = A[j,p]-L[j,k]*A[k,p]\n",
    "    U = A\n",
    "    return L, U\n"
   ]
  },
  {
   "cell_type": "markdown",
   "id": "7c07969e",
   "metadata": {},
   "source": [
    "Igjen prøver vi oss på $LU$-faktorisering av følgende matrise:\n",
    "\n",
    "$$A = \\left[\\begin{array}{ccc} 10^{-12} & 4 & 1 \\\\ 2 & -1 & -2 \\\\ 1 & 3 & 2 \\end{array}\\right].$$"
   ]
  },
  {
   "cell_type": "code",
   "execution_count": 9,
   "id": "79b7742c",
   "metadata": {},
   "outputs": [
    {
     "name": "stdout",
     "output_type": "stream",
     "text": [
      "\n",
      "Vi begynner med \n",
      "[[ 1.e-12  4.e+00  1.e+00]\n",
      " [ 2.e+00 -1.e+00 -2.e+00]\n",
      " [ 1.e+00  3.e+00  2.e+00]]\n",
      "og ender opp med følgende matriser: \n",
      "[[1.00e+00 0.00e+00 0.00e+00]\n",
      " [5.00e-13 1.00e+00 0.00e+00]\n",
      " [5.00e-01 8.75e-01 1.00e+00]]\n",
      "[[ 2.    -1.    -2.   ]\n",
      " [ 0.     4.     1.   ]\n",
      " [ 0.     0.     2.125]]\n"
     ]
    }
   ],
   "source": [
    "A5 = np.array([[1.e-12,4.,1.],[2.,-1.,-2.],[1.,3.,2.]])\n",
    "L5, U5 = GEPP(A5)\n",
    "print('\\nVi begynner med \\n{0}\\nog ender opp med følgende matriser: \\n{1}\\n{2}'.format(np.matrix(A5),np.matrix(L5),np.matrix(U5)))"
   ]
  },
  {
   "cell_type": "markdown",
   "id": "912299ae",
   "metadata": {},
   "source": [
    "Vi tester igjen om vi får riktig produkt:"
   ]
  },
  {
   "cell_type": "code",
   "execution_count": 10,
   "id": "4cb2cff1",
   "metadata": {},
   "outputs": [
    {
     "name": "stdout",
     "output_type": "stream",
     "text": [
      "[[ 2.e+00 -1.e+00 -2.e+00]\n",
      " [ 1.e-12  4.e+00  1.e+00]\n",
      " [ 1.e+00  3.e+00  2.e+00]]\n"
     ]
    }
   ],
   "source": [
    "L6 = np.array([[1.,0.,0.],[5.e-13,1.,0.],[1/2.,0.875,1.]])\n",
    "U6 = np.array([[2.,-1.,-2.], [0.,4.,1.],[0.,0.,17/8.]])\n",
    "A6 = np.dot(L6,U6) # notasjonen for matrisemultiplikasjon i python\n",
    "print(A6)"
   ]
  },
  {
   "cell_type": "markdown",
   "id": "8b2541e3",
   "metadata": {},
   "source": [
    "Vi får nå matrisa vi begynte med, men med rad 1 og 2 byttet om. Hvis vi hadde lagret permutasjonene som matrisa \n",
    "\n",
    "$$P = \\left[\\begin{array}{ccc} 0 & 1 & 0 \\\\ 1 & 0 & 0 \\\\ 0 & 0 & 1 \\end{array}\\right]$$\n",
    "\n",
    "ville vi fått at $PA=LU$. Dette går vi ikke videre inn på her."
   ]
  }
 ],
 "metadata": {
  "kernelspec": {
   "display_name": "Python 3",
   "language": "python",
   "name": "python3"
  },
  "language_info": {
   "codemirror_mode": {
    "name": "ipython",
    "version": 3
   },
   "file_extension": ".py",
   "mimetype": "text/x-python",
   "name": "python",
   "nbconvert_exporter": "python",
   "pygments_lexer": "ipython3",
   "version": "3.8.8"
  }
 },
 "nbformat": 4,
 "nbformat_minor": 5
}
